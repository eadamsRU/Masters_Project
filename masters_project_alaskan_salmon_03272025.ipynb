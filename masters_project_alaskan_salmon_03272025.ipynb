{
 "cells": [
  {
   "cell_type": "markdown",
   "metadata": {},
   "source": [
    "# Master's Project - Alaskan Salmon - 02/04/2025"
   ]
  },
  {
   "cell_type": "markdown",
   "metadata": {},
   "source": [
    "## <span style=\"color:#ff0000;\">Deadlines/Deliverables</span>\n"
   ]
  },
  {
   "cell_type": "markdown",
   "metadata": {},
   "source": [
    "<span style=\"color:#ff0000;\">Due: 02/05/2025</span>\n",
    "\n",
    "Please create a GitHub repository for your capstone project, and share access with me (my GitHub handle is sshende). Your repository must have a README.md file describing your project - this README file should be kept up-to-date as your project evolves. Even if you are doing the project in a group (at most 2 students), you must have a repository. \n",
    "\n",
    "Please submit with this “assignment” a single Markdown file containing the GitHub repository address and a brief description of the proposed project and data source(s). The deadline for submission is Wednesday, Feb. 5th, by midnight. \n"
   ]
  },
  {
   "cell_type": "markdown",
   "metadata": {},
   "source": [
    "## <span style=\"color:#FA8072;\">Presentation - Alaskan Salmon</span>\n"
   ]
  },
  {
   "cell_type": "markdown",
   "metadata": {},
   "source": [
    "### <span style=\"color:#FFA07A;\">Abstract</span>\n"
   ]
  },
  {
   "cell_type": "markdown",
   "metadata": {},
   "source": [
    "Alaska’s salmon industry is a vital economic and ecological mainstay for the state, contributing approximately 80% of North America’s wild caught salmon and serving as a major source of employment and revenue. However, the industry faces growing challenges from climate change, economic pressures, and international competition. This study investigates the correlation between environmental factors such as rising ocean temperatures, sea level changes, and ocean acidification and the quantity and quality of salmon caught in Alaska. \n",
    "\n",
    "The null hypothesis (H₀) assumes no significant relationship between these climate variables and salmon populations, while the alternative hypothesis (H₁) suggests that climate change has a measurable impact, affecting salmon migration, spawning behaviors, and overall catch potential. \n",
    "\n",
    "Additionally, this research explores the economic implications of these changes, labor costs, fuel prices, and global market competition. By analyzing historical environmental data, salmon population metrics, and economic trends, this study aims to provide insights into the sustainability of the Alaskan salmon industry amid evolving climate conditions. The findings may inform policy decisions, conservation efforts, and adaptive strategies for industry stakeholders."
   ]
  },
  {
   "cell_type": "markdown",
   "metadata": {},
   "source": [
    "### <span style=\"color:#FFA07A;\">Hypothesis</span>\n"
   ]
  },
  {
   "cell_type": "markdown",
   "metadata": {},
   "source": [
    "H0 (Null Hypothesis): \n",
    "\n",
    "* There is no significant correlation between climate change factors (temperature, sea levels) and the quantity/quality of salmon caught in Alaska.\n",
    "\n",
    "H1 (Alternative Hypothesis):\n",
    "\n",
    "* Rising ocean temperatures and sea levels significantly impacting the quantity and quality of Alaskan salmon, leading to noticeable effects on the fishing industry."
   ]
  },
  {
   "cell_type": "markdown",
   "metadata": {},
   "source": [
    "<span style=\"color:#FFA07A;\">Why this is important</span>\n"
   ]
  },
  {
   "cell_type": "markdown",
   "metadata": {},
   "source": [
    "* Largest harvest in North America: Alaska's salmon harvest is the largest in North America, accounting for about 80% of the total wild-caught catch. \n",
    "* Employment: More Alaskans work in salmon harvesting and processing than in any other commercial fishery. \n",
    "* Economics: Salmon accounts for the majority of the value of Alaska seafood. \n"
   ]
  },
  {
   "cell_type": "markdown",
   "metadata": {},
   "source": [
    "<span style=\"color:#1ff2cf;\">Challenges facing the salmon industry</span>"
   ]
  },
  {
   "cell_type": "markdown",
   "metadata": {},
   "source": [
    "* Inflation: High inflation and interest rates have squeezed profits and liquidity for salmon processors. \n",
    "* Labor: Wages for processing workers have increased sharply. \n",
    "* Fuel: Diesel fuel prices have increased sharply. \n",
    "* Competition: Alaskan fishermen compete against unsustainable fishing and forced labor in foreign imports. "
   ]
  },
  {
   "cell_type": "markdown",
   "metadata": {},
   "source": [
    "### <span style=\"color:#FFA07A;\">Key Factors</span>\n"
   ]
  },
  {
   "cell_type": "markdown",
   "metadata": {},
   "source": [
    "Environmental Data:\n",
    "\n",
    "* Ocean and river temperatures over time.\n",
    "* Sea level changes in Alaskan fishing regions.\n",
    "* Ocean pH levels (impacting food chains).\n",
    "* Climate patterns (precipitation, storms, etc.).\n",
    "\n",
    "Salmon Population & Quality Data:\n",
    "\n",
    "* Total catch size (commercial and subsistence fishing).\n",
    "* Average salmon weight and size.\n",
    "* Disease prevalence and mortality rates.\n",
    "* Changes in migration and spawning behaviors.\n",
    "\n",
    "Economic & Industry Impact:\n",
    "\n",
    "* Revenue trends in the Alaskan salmon industry.\n",
    "* Changes in regulations and fishing quotas.\n",
    "* Shifts in fishing seasons due to climate change."
   ]
  },
  {
   "cell_type": "markdown",
   "metadata": {},
   "source": [
    "### <span style=\"color:#FFA07A;\">Datasets/Prepping Dataframes</span>\n"
   ]
  },
  {
   "cell_type": "markdown",
   "metadata": {},
   "source": [
    "* https://erddap.bco-dmo.org/erddap/tabledap/bcodmo_dataset_3106.htmlTable"
   ]
  },
  {
   "cell_type": "code",
   "execution_count": 4,
   "metadata": {},
   "outputs": [],
   "source": [
    "# get dataset\n",
    "import pandas as pd\n",
    "salmon = pd.read_csv('https://github.com/eadamsRU/Masters_Project/raw/refs/heads/main/Salmon_biodata_bcodm%20-%20salmon_biodata.csv')\n"
   ]
  },
  {
   "cell_type": "code",
   "execution_count": 5,
   "metadata": {},
   "outputs": [
    {
     "data": {
      "text/html": [
       "<div>\n",
       "<style scoped>\n",
       "    .dataframe tbody tr th:only-of-type {\n",
       "        vertical-align: middle;\n",
       "    }\n",
       "\n",
       "    .dataframe tbody tr th {\n",
       "        vertical-align: top;\n",
       "    }\n",
       "\n",
       "    .dataframe thead th {\n",
       "        text-align: right;\n",
       "    }\n",
       "</style>\n",
       "<table border=\"1\" class=\"dataframe\">\n",
       "  <thead>\n",
       "    <tr style=\"text-align: right;\">\n",
       "      <th></th>\n",
       "      <th>year</th>\n",
       "      <th>transect</th>\n",
       "      <th>sta_id</th>\n",
       "      <th>haul_id</th>\n",
       "      <th>month_local</th>\n",
       "      <th>day_local</th>\n",
       "      <th>yrday_local</th>\n",
       "      <th>latitude</th>\n",
       "      <th>longitude</th>\n",
       "      <th>depth_w_meters</th>\n",
       "      <th>...</th>\n",
       "      <th>length_frozen_cm</th>\n",
       "      <th>length_wet_cm</th>\n",
       "      <th>weight_froz_grams</th>\n",
       "      <th>weight_wet_grams</th>\n",
       "      <th>sex</th>\n",
       "      <th>maturity</th>\n",
       "      <th>stomwt_full</th>\n",
       "      <th>stomwt_empty</th>\n",
       "      <th>sealice</th>\n",
       "      <th>comments</th>\n",
       "    </tr>\n",
       "  </thead>\n",
       "  <tbody>\n",
       "    <tr>\n",
       "      <th>27505</th>\n",
       "      <td>2004</td>\n",
       "      <td>nd</td>\n",
       "      <td>I10</td>\n",
       "      <td>2004031</td>\n",
       "      <td>11</td>\n",
       "      <td>8</td>\n",
       "      <td>313</td>\n",
       "      <td>57.3</td>\n",
       "      <td>-155.51</td>\n",
       "      <td>266</td>\n",
       "      <td>...</td>\n",
       "      <td>nd</td>\n",
       "      <td>229</td>\n",
       "      <td>nd</td>\n",
       "      <td>112</td>\n",
       "      <td>nd</td>\n",
       "      <td>J</td>\n",
       "      <td>0</td>\n",
       "      <td>0</td>\n",
       "      <td>0</td>\n",
       "      <td>nd</td>\n",
       "    </tr>\n",
       "    <tr>\n",
       "      <th>27506</th>\n",
       "      <td>2004</td>\n",
       "      <td>nd</td>\n",
       "      <td>I10</td>\n",
       "      <td>2004031</td>\n",
       "      <td>11</td>\n",
       "      <td>8</td>\n",
       "      <td>313</td>\n",
       "      <td>57.3</td>\n",
       "      <td>-155.51</td>\n",
       "      <td>266</td>\n",
       "      <td>...</td>\n",
       "      <td>nd</td>\n",
       "      <td>231</td>\n",
       "      <td>nd</td>\n",
       "      <td>121</td>\n",
       "      <td>nd</td>\n",
       "      <td>J</td>\n",
       "      <td>0</td>\n",
       "      <td>0</td>\n",
       "      <td>0</td>\n",
       "      <td>nd</td>\n",
       "    </tr>\n",
       "    <tr>\n",
       "      <th>27507</th>\n",
       "      <td>2004</td>\n",
       "      <td>nd</td>\n",
       "      <td>I10</td>\n",
       "      <td>2004031</td>\n",
       "      <td>11</td>\n",
       "      <td>8</td>\n",
       "      <td>313</td>\n",
       "      <td>57.3</td>\n",
       "      <td>-155.51</td>\n",
       "      <td>266</td>\n",
       "      <td>...</td>\n",
       "      <td>nd</td>\n",
       "      <td>216</td>\n",
       "      <td>nd</td>\n",
       "      <td>107</td>\n",
       "      <td>nd</td>\n",
       "      <td>J</td>\n",
       "      <td>0</td>\n",
       "      <td>0</td>\n",
       "      <td>0</td>\n",
       "      <td>nd</td>\n",
       "    </tr>\n",
       "    <tr>\n",
       "      <th>27508</th>\n",
       "      <td>2004</td>\n",
       "      <td>nd</td>\n",
       "      <td>I10</td>\n",
       "      <td>2004031</td>\n",
       "      <td>11</td>\n",
       "      <td>8</td>\n",
       "      <td>313</td>\n",
       "      <td>57.3</td>\n",
       "      <td>-155.51</td>\n",
       "      <td>266</td>\n",
       "      <td>...</td>\n",
       "      <td>nd</td>\n",
       "      <td>215</td>\n",
       "      <td>nd</td>\n",
       "      <td>105</td>\n",
       "      <td>nd</td>\n",
       "      <td>J</td>\n",
       "      <td>0</td>\n",
       "      <td>0</td>\n",
       "      <td>0</td>\n",
       "      <td>nd</td>\n",
       "    </tr>\n",
       "    <tr>\n",
       "      <th>27509</th>\n",
       "      <td>2004</td>\n",
       "      <td>nd</td>\n",
       "      <td>I10</td>\n",
       "      <td>2004031</td>\n",
       "      <td>11</td>\n",
       "      <td>8</td>\n",
       "      <td>313</td>\n",
       "      <td>57.3</td>\n",
       "      <td>-155.51</td>\n",
       "      <td>266</td>\n",
       "      <td>...</td>\n",
       "      <td>nd</td>\n",
       "      <td>221</td>\n",
       "      <td>nd</td>\n",
       "      <td>102</td>\n",
       "      <td>nd</td>\n",
       "      <td>J</td>\n",
       "      <td>0</td>\n",
       "      <td>0</td>\n",
       "      <td>0</td>\n",
       "      <td>nd</td>\n",
       "    </tr>\n",
       "  </tbody>\n",
       "</table>\n",
       "<p>5 rows × 21 columns</p>\n",
       "</div>"
      ],
      "text/plain": [
       "       year transect sta_id  haul_id  month_local  day_local  yrday_local  \\\n",
       "27505  2004       nd    I10  2004031           11          8          313   \n",
       "27506  2004       nd    I10  2004031           11          8          313   \n",
       "27507  2004       nd    I10  2004031           11          8          313   \n",
       "27508  2004       nd    I10  2004031           11          8          313   \n",
       "27509  2004       nd    I10  2004031           11          8          313   \n",
       "\n",
       "       latitude  longitude depth_w_meters  ... length_frozen_cm length_wet_cm  \\\n",
       "27505      57.3    -155.51            266  ...               nd           229   \n",
       "27506      57.3    -155.51            266  ...               nd           231   \n",
       "27507      57.3    -155.51            266  ...               nd           216   \n",
       "27508      57.3    -155.51            266  ...               nd           215   \n",
       "27509      57.3    -155.51            266  ...               nd           221   \n",
       "\n",
       "      weight_froz_grams weight_wet_grams sex maturity stomwt_full  \\\n",
       "27505                nd              112  nd        J           0   \n",
       "27506                nd              121  nd        J           0   \n",
       "27507                nd              107  nd        J           0   \n",
       "27508                nd              105  nd        J           0   \n",
       "27509                nd              102  nd        J           0   \n",
       "\n",
       "      stomwt_empty sealice comments  \n",
       "27505            0       0       nd  \n",
       "27506            0       0       nd  \n",
       "27507            0       0       nd  \n",
       "27508            0       0       nd  \n",
       "27509            0       0       nd  \n",
       "\n",
       "[5 rows x 21 columns]"
      ]
     },
     "execution_count": 5,
     "metadata": {},
     "output_type": "execute_result"
    }
   ],
   "source": [
    "salmon.tail(5)"
   ]
  },
  {
   "cell_type": "code",
   "execution_count": 6,
   "metadata": {},
   "outputs": [
    {
     "data": {
      "text/plain": [
       "year                     int64\n",
       "transect                object\n",
       "sta_id                  object\n",
       "haul_id                  int64\n",
       "month_local              int64\n",
       "day_local                int64\n",
       "yrday_local              int64\n",
       "latitude               float64\n",
       "longitude              float64\n",
       "depth_w_meters          object\n",
       "species_common_name     object\n",
       "length_frozen_cm        object\n",
       "length_wet_cm           object\n",
       "weight_froz_grams       object\n",
       "weight_wet_grams        object\n",
       "sex                     object\n",
       "maturity                object\n",
       "stomwt_full             object\n",
       "stomwt_empty            object\n",
       "sealice                 object\n",
       "comments                object\n",
       "dtype: object"
      ]
     },
     "execution_count": 6,
     "metadata": {},
     "output_type": "execute_result"
    }
   ],
   "source": [
    "salmon.dtypes"
   ]
  },
  {
   "cell_type": "code",
   "execution_count": 7,
   "metadata": {},
   "outputs": [
    {
     "ename": "NameError",
     "evalue": "name 'columns_to_convert' is not defined",
     "output_type": "error",
     "traceback": [
      "\u001b[1;31m---------------------------------------------------------------------------\u001b[0m",
      "\u001b[1;31mNameError\u001b[0m                                 Traceback (most recent call last)",
      "Cell \u001b[1;32mIn[7], line 2\u001b[0m\n\u001b[0;32m      1\u001b[0m \u001b[38;5;66;03m# Find non-numeric values in the selected columns\u001b[39;00m\n\u001b[1;32m----> 2\u001b[0m \u001b[38;5;28;01mfor\u001b[39;00m col \u001b[38;5;129;01min\u001b[39;00m \u001b[43mcolumns_to_convert\u001b[49m:\n\u001b[0;32m      3\u001b[0m     non_numeric \u001b[38;5;241m=\u001b[39m salmon[col][pd\u001b[38;5;241m.\u001b[39mto_numeric(salmon[col], errors\u001b[38;5;241m=\u001b[39m\u001b[38;5;124m'\u001b[39m\u001b[38;5;124mcoerce\u001b[39m\u001b[38;5;124m'\u001b[39m)\u001b[38;5;241m.\u001b[39misna()]\u001b[38;5;241m.\u001b[39munique()\n\u001b[0;32m      4\u001b[0m     \u001b[38;5;28mprint\u001b[39m(\u001b[38;5;124mf\u001b[39m\u001b[38;5;124m\"\u001b[39m\u001b[38;5;124mNon-numeric values in \u001b[39m\u001b[38;5;132;01m{\u001b[39;00mcol\u001b[38;5;132;01m}\u001b[39;00m\u001b[38;5;124m: \u001b[39m\u001b[38;5;132;01m{\u001b[39;00mnon_numeric\u001b[38;5;132;01m}\u001b[39;00m\u001b[38;5;124m\"\u001b[39m)\n",
      "\u001b[1;31mNameError\u001b[0m: name 'columns_to_convert' is not defined"
     ]
    }
   ],
   "source": [
    "# Find non-numeric values in the selected columns\n",
    "for col in columns_to_convert:\n",
    "    non_numeric = salmon[col][pd.to_numeric(salmon[col], errors='coerce').isna()].unique()\n",
    "    print(f\"Non-numeric values in {col}: {non_numeric}\")\n"
   ]
  },
  {
   "cell_type": "code",
   "execution_count": null,
   "metadata": {},
   "outputs": [],
   "source": [
    "# drop all rows with missing values\n",
    "salmon = salmon.dropna(subset=columns_to_convert)\n"
   ]
  },
  {
   "cell_type": "code",
   "execution_count": null,
   "metadata": {},
   "outputs": [],
   "source": [
    "print(salmon[columns_to_convert].dtypes)"
   ]
  },
  {
   "cell_type": "code",
   "execution_count": null,
   "metadata": {},
   "outputs": [],
   "source": [
    "# I am casting from object to float for these columns with decimal numberts\n",
    "columns_to_convert = salmon['length_frozen_cm']  # replace with your actual column names\n",
    "#salmon[columns_to_convert] = salmon[columns_to_convert].astype('float64')"
   ]
  },
  {
   "cell_type": "code",
   "execution_count": null,
   "metadata": {},
   "outputs": [],
   "source": [
    "nd_rows = salmon[salmon.applymap(lambda x: x == 'nd')]\n",
    "print(nd_rows)\n",
    "\n"
   ]
  },
  {
   "cell_type": "markdown",
   "metadata": {},
   "source": [
    "These following 3 code blocks got rid of the nd rows"
   ]
  },
  {
   "cell_type": "code",
   "execution_count": null,
   "metadata": {},
   "outputs": [
    {
     "name": "stdout",
     "output_type": "stream",
     "text": [
      "year                       0\n",
      "transect                3643\n",
      "sta_id                     0\n",
      "haul_id                    0\n",
      "month_local                0\n",
      "day_local                  0\n",
      "yrday_local                0\n",
      "latitude                   0\n",
      "longitude                  0\n",
      "depth_w_meters           195\n",
      "species_common_name        0\n",
      "length_frozen_cm       12930\n",
      "length_wet_cm           4036\n",
      "weight_froz_grams      12840\n",
      "weight_wet_grams        4060\n",
      "sex                    19718\n",
      "maturity                   0\n",
      "stomwt_full            19402\n",
      "stomwt_empty           19402\n",
      "sealice                 9662\n",
      "comments               26797\n",
      "dtype: int64\n"
     ]
    },
    {
     "name": "stderr",
     "output_type": "stream",
     "text": [
      "C:\\Users\\mecto\\AppData\\Local\\Temp\\ipykernel_11924\\3843624464.py:4: FutureWarning: DataFrame.applymap has been deprecated. Use DataFrame.map instead.\n",
      "  salmon = salmon.applymap(lambda x: np.nan if x == 'nd' else x)\n"
     ]
    }
   ],
   "source": [
    "import numpy as np\n",
    "\n",
    "# Replace all 'nd' values with NaN\n",
    "salmon = salmon.applymap(lambda x: np.nan if x == 'nd' else x)\n",
    "\n",
    "# Verify if 'nd' has been replaced\n",
    "print(salmon.isna().sum())  # Shows count of NaN values in each column\n"
   ]
  },
  {
   "cell_type": "code",
   "execution_count": null,
   "metadata": {},
   "outputs": [
    {
     "name": "stdout",
     "output_type": "stream",
     "text": [
      "0\n"
     ]
    }
   ],
   "source": [
    "print((salmon == 'nd').sum().sum())  # Should print 0 if all 'nd' are replaced"
   ]
  },
  {
   "cell_type": "code",
   "execution_count": null,
   "metadata": {},
   "outputs": [
    {
     "name": "stdout",
     "output_type": "stream",
     "text": [
      "year                       0\n",
      "transect                3643\n",
      "sta_id                     0\n",
      "haul_id                    0\n",
      "month_local                0\n",
      "day_local                  0\n",
      "yrday_local                0\n",
      "latitude                   0\n",
      "longitude                  0\n",
      "depth_w_meters           195\n",
      "species_common_name        0\n",
      "length_frozen_cm       12930\n",
      "length_wet_cm           4036\n",
      "weight_froz_grams      12840\n",
      "weight_wet_grams        4060\n",
      "sex                    19718\n",
      "maturity                   0\n",
      "stomwt_full            19402\n",
      "stomwt_empty           19402\n",
      "sealice                 9662\n",
      "comments               26797\n",
      "dtype: int64\n"
     ]
    }
   ],
   "source": [
    "print(salmon.isna().sum())  # Shows count of NaN values per column\n"
   ]
  },
  {
   "cell_type": "code",
   "execution_count": null,
   "metadata": {},
   "outputs": [],
   "source": [
    "# may be able to delete this as it was unnecessary\n",
    "# columns_to_convertFloat = columns_to_convert.astype('float64')"
   ]
  },
  {
   "cell_type": "markdown",
   "metadata": {},
   "source": [
    "Need top cast a lot of these objects to float, such as length and weight"
   ]
  },
  {
   "cell_type": "code",
   "execution_count": null,
   "metadata": {},
   "outputs": [],
   "source": [
    "# If you want to convert multiple columns\n",
    "# I am casting from object to float for these columns with decimal numberts\n",
    "columns_to_convert = salmon['depth_w_meters','depth_w_meters', 'length_frozen_cm', 'length_wet_cm', 'weight_froz_grams', 'weight_wet_grams']  # replace with your actual column names\n",
    "salmon[columns_to_convert] = salmon[columns_to_convert].astype('float64')"
   ]
  },
  {
   "cell_type": "markdown",
   "metadata": {},
   "source": [
    "## <span style=\"color:#FA8072;\">2025-02-08 - Salmon Data Analysis</span>\n"
   ]
  },
  {
   "cell_type": "markdown",
   "metadata": {},
   "source": [
    "Let us do some data prep and analysis to see what this salmon biological dataset gives us."
   ]
  },
  {
   "cell_type": "code",
   "execution_count": 8,
   "metadata": {},
   "outputs": [
    {
     "name": "stdout",
     "output_type": "stream",
     "text": [
      "species_common_name\n",
      "Pink       12615\n",
      "Chum        9543\n",
      "Sockeye     2460\n",
      "Coho        2170\n",
      "Chinook      722\n",
      "Name: count, dtype: int64\n"
     ]
    }
   ],
   "source": [
    "species_counts = salmon['species_common_name'].value_counts()\n",
    "print(species_counts)"
   ]
  },
  {
   "cell_type": "code",
   "execution_count": 9,
   "metadata": {},
   "outputs": [
    {
     "ename": "ValueError",
     "evalue": "could not convert string to float: 'nd'",
     "output_type": "error",
     "traceback": [
      "\u001b[1;31m---------------------------------------------------------------------------\u001b[0m",
      "\u001b[1;31mValueError\u001b[0m                                Traceback (most recent call last)",
      "Cell \u001b[1;32mIn[9], line 2\u001b[0m\n\u001b[0;32m      1\u001b[0m \u001b[38;5;66;03m# Calculate correlation between length and weight\u001b[39;00m\n\u001b[1;32m----> 2\u001b[0m correlation \u001b[38;5;241m=\u001b[39m \u001b[43msalmon\u001b[49m\u001b[43m[\u001b[49m\u001b[38;5;124;43m'\u001b[39;49m\u001b[38;5;124;43mlength_wet_cm\u001b[39;49m\u001b[38;5;124;43m'\u001b[39;49m\u001b[43m]\u001b[49m\u001b[38;5;241;43m.\u001b[39;49m\u001b[43mcorr\u001b[49m\u001b[43m(\u001b[49m\u001b[43msalmon\u001b[49m\u001b[43m[\u001b[49m\u001b[38;5;124;43m'\u001b[39;49m\u001b[38;5;124;43mweight_wet_grams\u001b[39;49m\u001b[38;5;124;43m'\u001b[39;49m\u001b[43m]\u001b[49m\u001b[43m)\u001b[49m\n\u001b[0;32m      3\u001b[0m \u001b[38;5;28mprint\u001b[39m(\u001b[38;5;124mf\u001b[39m\u001b[38;5;124m'\u001b[39m\u001b[38;5;124mCorrelation between length and weight: \u001b[39m\u001b[38;5;132;01m{\u001b[39;00mcorrelation\u001b[38;5;132;01m}\u001b[39;00m\u001b[38;5;124m'\u001b[39m)\n",
      "File \u001b[1;32mc:\\Users\\mecto\\AppData\\Local\\Programs\\Python\\Python312\\Lib\\site-packages\\pandas\\core\\series.py:2973\u001b[0m, in \u001b[0;36mSeries.corr\u001b[1;34m(self, other, method, min_periods)\u001b[0m\n\u001b[0;32m   2970\u001b[0m \u001b[38;5;28;01mif\u001b[39;00m \u001b[38;5;28mlen\u001b[39m(this) \u001b[38;5;241m==\u001b[39m \u001b[38;5;241m0\u001b[39m:\n\u001b[0;32m   2971\u001b[0m     \u001b[38;5;28;01mreturn\u001b[39;00m np\u001b[38;5;241m.\u001b[39mnan\n\u001b[1;32m-> 2973\u001b[0m this_values \u001b[38;5;241m=\u001b[39m \u001b[43mthis\u001b[49m\u001b[38;5;241;43m.\u001b[39;49m\u001b[43mto_numpy\u001b[49m\u001b[43m(\u001b[49m\u001b[43mdtype\u001b[49m\u001b[38;5;241;43m=\u001b[39;49m\u001b[38;5;28;43mfloat\u001b[39;49m\u001b[43m,\u001b[49m\u001b[43m \u001b[49m\u001b[43mna_value\u001b[49m\u001b[38;5;241;43m=\u001b[39;49m\u001b[43mnp\u001b[49m\u001b[38;5;241;43m.\u001b[39;49m\u001b[43mnan\u001b[49m\u001b[43m,\u001b[49m\u001b[43m \u001b[49m\u001b[43mcopy\u001b[49m\u001b[38;5;241;43m=\u001b[39;49m\u001b[38;5;28;43;01mFalse\u001b[39;49;00m\u001b[43m)\u001b[49m\n\u001b[0;32m   2974\u001b[0m other_values \u001b[38;5;241m=\u001b[39m other\u001b[38;5;241m.\u001b[39mto_numpy(dtype\u001b[38;5;241m=\u001b[39m\u001b[38;5;28mfloat\u001b[39m, na_value\u001b[38;5;241m=\u001b[39mnp\u001b[38;5;241m.\u001b[39mnan, copy\u001b[38;5;241m=\u001b[39m\u001b[38;5;28;01mFalse\u001b[39;00m)\n\u001b[0;32m   2976\u001b[0m \u001b[38;5;28;01mif\u001b[39;00m method \u001b[38;5;129;01min\u001b[39;00m [\u001b[38;5;124m\"\u001b[39m\u001b[38;5;124mpearson\u001b[39m\u001b[38;5;124m\"\u001b[39m, \u001b[38;5;124m\"\u001b[39m\u001b[38;5;124mspearman\u001b[39m\u001b[38;5;124m\"\u001b[39m, \u001b[38;5;124m\"\u001b[39m\u001b[38;5;124mkendall\u001b[39m\u001b[38;5;124m\"\u001b[39m] \u001b[38;5;129;01mor\u001b[39;00m \u001b[38;5;28mcallable\u001b[39m(method):\n",
      "File \u001b[1;32mc:\\Users\\mecto\\AppData\\Local\\Programs\\Python\\Python312\\Lib\\site-packages\\pandas\\core\\base.py:662\u001b[0m, in \u001b[0;36mIndexOpsMixin.to_numpy\u001b[1;34m(self, dtype, copy, na_value, **kwargs)\u001b[0m\n\u001b[0;32m    658\u001b[0m         values \u001b[38;5;241m=\u001b[39m values\u001b[38;5;241m.\u001b[39mcopy()\n\u001b[0;32m    660\u001b[0m     values[np\u001b[38;5;241m.\u001b[39masanyarray(isna(\u001b[38;5;28mself\u001b[39m))] \u001b[38;5;241m=\u001b[39m na_value\n\u001b[1;32m--> 662\u001b[0m result \u001b[38;5;241m=\u001b[39m \u001b[43mnp\u001b[49m\u001b[38;5;241;43m.\u001b[39;49m\u001b[43masarray\u001b[49m\u001b[43m(\u001b[49m\u001b[43mvalues\u001b[49m\u001b[43m,\u001b[49m\u001b[43m \u001b[49m\u001b[43mdtype\u001b[49m\u001b[38;5;241;43m=\u001b[39;49m\u001b[43mdtype\u001b[49m\u001b[43m)\u001b[49m\n\u001b[0;32m    664\u001b[0m \u001b[38;5;28;01mif\u001b[39;00m (copy \u001b[38;5;129;01mand\u001b[39;00m \u001b[38;5;129;01mnot\u001b[39;00m fillna) \u001b[38;5;129;01mor\u001b[39;00m (\u001b[38;5;129;01mnot\u001b[39;00m copy \u001b[38;5;129;01mand\u001b[39;00m using_copy_on_write()):\n\u001b[0;32m    665\u001b[0m     \u001b[38;5;28;01mif\u001b[39;00m np\u001b[38;5;241m.\u001b[39mshares_memory(\u001b[38;5;28mself\u001b[39m\u001b[38;5;241m.\u001b[39m_values[:\u001b[38;5;241m2\u001b[39m], result[:\u001b[38;5;241m2\u001b[39m]):\n\u001b[0;32m    666\u001b[0m         \u001b[38;5;66;03m# Take slices to improve performance of check\u001b[39;00m\n",
      "\u001b[1;31mValueError\u001b[0m: could not convert string to float: 'nd'"
     ]
    }
   ],
   "source": [
    "# Calculate correlation between length and weight\n",
    "correlation = salmon['length_wet_cm'].corr(salmon['weight_wet_grams'])\n",
    "print(f'Correlation between length and weight: {correlation}')\n"
   ]
  },
  {
   "cell_type": "markdown",
   "metadata": {},
   "source": [
    "<b><span style=\"color:#c0cfb2;\">Data Visualization</span></b>\n"
   ]
  },
  {
   "cell_type": "code",
   "execution_count": null,
   "metadata": {},
   "outputs": [
    {
     "data": {
      "image/png": "[encoded data removed]",
      "text/plain": [
       "<Figure size 1000x600 with 1 Axes>"
      ]
     },
     "metadata": {},
     "output_type": "display_data"
    }
   ],
   "source": [
    "import matplotlib.pyplot as plt\n",
    "\n",
    "# Plot species distribution\n",
    "species_counts.plot(kind='bar', figsize=(10, 6))\n",
    "plt.title('Species Distribution')\n",
    "plt.xlabel('Species')\n",
    "plt.ylabel('Count')\n",
    "plt.show()\n"
   ]
  },
  {
   "cell_type": "code",
   "execution_count": null,
   "metadata": {},
   "outputs": [],
   "source": [
    "# Scatter plot of length vs. weight\n",
    "plt.figure(figsize=(10, 6))\n",
    "plt.scatter(salmon['length_wet_cm'], salmon['weight_wet_grams'], alpha=0.5)\n",
    "plt.title('Length vs. Weight')\n",
    "plt.xlabel('Length (cm)')\n",
    "plt.ylabel('Weight (g)')\n",
    "plt.show()\n"
   ]
  },
  {
   "cell_type": "code",
   "execution_count": null,
   "metadata": {},
   "outputs": [
    {
     "data": {
      "image/png": "[encoded data removed]",
      "text/plain": [
       "<Figure size 1000x600 with 1 Axes>"
      ]
     },
     "metadata": {},
     "output_type": "display_data"
    }
   ],
   "source": [
    "# Scatter plot of sampling locations\n",
    "plt.figure(figsize=(10, 6))\n",
    "plt.scatter(salmon['longitude'], salmon['latitude'], alpha=0.5)\n",
    "plt.title('Geographical Distribution of Samples')\n",
    "plt.xlabel('Longitude')\n",
    "plt.ylabel('Latitude')\n",
    "plt.show()\n"
   ]
  },
  {
   "cell_type": "markdown",
   "metadata": {},
   "source": [
    "The above graph with geopandas"
   ]
  },
  {
   "cell_type": "code",
   "execution_count": null,
   "metadata": {},
   "outputs": [],
   "source": [
    "import geopandas as gpd\n",
    "import matplotlib.pyplot as plt\n",
    "\n",
    "# Assuming your data is in a pandas DataFrame `df` with columns 'latitude' and 'longitude'\n",
    "# If it's not in the correct format, convert them to a GeoDataFrame.\n",
    "\n",
    "# Create a GeoDataFrame from your DataFrame\n",
    "gdf = gpd.GeoDataFrame(salmon, geometry=gpd.points_from_xy(salmon['longitude'], salmon['latitude']))\n",
    "\n",
    "# Load a map of Alaska (you can use a shapefile for Alaska's boundaries)\n",
    "world = gpd.read_file('C:\\\\Users\\\\mecto\\\\Desktop\\\\VSC Projects\\\\Masters_Spring2025\\\\MastersProject_Salmon\\\\ne_10m_admin_0_countries.shp')  # Replace with the path to the shapefile\n",
    "\n",
    "# Filter the world map to only show Alaska (you can download a shapefile of Alaska if needed)\n",
    "alaska = world[world.name == 'United States of America']\n",
    "\n",
    "# Plot the map of Alaska\n",
    "fig, ax = plt.subplots(figsize=(10, 6))\n",
    "alaska.plot(ax=ax, color='lightgrey', edgecolor='black')\n",
    "\n",
    "# Overlay your sampling points (scatter plot)\n",
    "gdf.plot(ax=ax, marker='o', color='red', markersize=5, alpha=0.5)\n",
    "\n",
    "# Title and labels\n",
    "plt.title('Geographical Distribution of Samples in Alaska')\n",
    "plt.xlabel('Longitude')\n",
    "plt.ylabel('Latitude')\n",
    "\n",
    "# Show the plot\n",
    "plt.show()\n"
   ]
  },
  {
   "cell_type": "code",
   "execution_count": null,
   "metadata": {},
   "outputs": [
    {
     "data": {
      "image/png": "[encoded data removed]",
      "text/plain": [
       "<Figure size 1000x600 with 1 Axes>"
      ]
     },
     "metadata": {},
     "output_type": "display_data"
    }
   ],
   "source": [
    "# Convert year and day to datetime\n",
    "salmon['date'] = pd.to_datetime(salmon['year'].astype(str) + salmon['yrday_local'].astype(str), format='%Y%j', errors='coerce')\n",
    "\n",
    "# Plot number of samples over time\n",
    "salmon['date'].value_counts().sort_index().plot(kind='line', figsize=(10, 6))\n",
    "plt.title('Temporal Distribution of Samples')\n",
    "plt.xlabel('Date')\n",
    "plt.ylabel('Number of Samples')\n",
    "plt.show()\n"
   ]
  },
  {
   "cell_type": "code",
   "execution_count": null,
   "metadata": {},
   "outputs": [
    {
     "data": {
      "image/png": "[encoded data removed]",
      "text/plain": [
       "<Figure size 1000x600 with 1 Axes>"
      ]
     },
     "metadata": {},
     "output_type": "display_data"
    }
   ],
   "source": [
    "# Count maturity stages for each species\n",
    "maturity_counts = salmon.groupby(['species_common_name', 'maturity']).size().unstack().fillna(0)\n",
    "\n",
    "# Plot stacked bar chart\n",
    "maturity_counts.plot(kind='bar', stacked=True, figsize=(10, 6))\n",
    "plt.title('Maturity Stage Distribution by Species')\n",
    "plt.xlabel('Species')\n",
    "plt.ylabel('Count')\n",
    "plt.show()\n"
   ]
  },
  {
   "cell_type": "code",
   "execution_count": null,
   "metadata": {},
   "outputs": [],
   "source": [
    "import seaborn as sns\n",
    "\n",
    "# Scatter plot with regression lines for each species\n",
    "plt.figure(figsize=(10, 6))\n",
    "sns.lmplot(x='length_wet_cm', y='weight_wet_grams', hue='species_common_name', data=salmon, aspect=1.5)\n",
    "plt.title('Length vs. Weight by Species')\n",
    "plt.xlabel('Length (mm)')\n",
    "plt.ylabel('Weight (g)')\n",
    "plt.show()\n"
   ]
  },
  {
   "cell_type": "markdown",
   "metadata": {},
   "source": [
    "Update this below graph which each species name for species_#_data"
   ]
  },
  {
   "cell_type": "code",
   "execution_count": null,
   "metadata": {},
   "outputs": [
    {
     "data": {
      "text/plain": [
       "<Figure size 1000x600 with 0 Axes>"
      ]
     },
     "metadata": {},
     "output_type": "display_data"
    },
    {
     "data": {
      "image/png": "[encoded data removed]",
      "text/plain": [
       "<Figure size 750x500 with 1 Axes>"
      ]
     },
     "metadata": {},
     "output_type": "display_data"
    },
    {
     "data": {
      "text/plain": [
       "<Figure size 1000x600 with 0 Axes>"
      ]
     },
     "metadata": {},
     "output_type": "display_data"
    },
    {
     "data": {
      "image/png": "[encoded data removed]",
      "text/plain": [
       "<Figure size 750x500 with 1 Axes>"
      ]
     },
     "metadata": {},
     "output_type": "display_data"
    },
    {
     "data": {
      "text/plain": [
       "<Figure size 1000x600 with 0 Axes>"
      ]
     },
     "metadata": {},
     "output_type": "display_data"
    },
    {
     "data": {
      "image/png": "[encoded data removed]",
      "text/plain": [
       "<Figure size 750x500 with 1 Axes>"
      ]
     },
     "metadata": {},
     "output_type": "display_data"
    }
   ],
   "source": [
    "import seaborn as sns\n",
    "import matplotlib.pyplot as plt\n",
    "\n",
    "# Plot for species 1 (replace with actual species name)\n",
    "species_1_data = salmon[salmon['species_common_name'] == 'Species_1']  # Replace 'Species_1' with the actual species name\n",
    "plt.figure(figsize=(10, 6))\n",
    "sns.lmplot(x='length_wet_cm', y='weight_wet_grams', data=species_1_data, aspect=1.5)\n",
    "plt.title('Length vs. Weight for Species 1')  # Replace with actual species name\n",
    "plt.xlabel('Length (cm)')\n",
    "plt.ylabel('Weight (g)')\n",
    "plt.show()\n",
    "\n",
    "# Plot for species 2 (replace with actual species name)\n",
    "species_2_data = salmon[salmon['species_common_name'] == 'Species_2']  # Replace 'Species_2' with the actual species name\n",
    "plt.figure(figsize=(10, 6))\n",
    "sns.lmplot(x='length_wet_cm', y='weight_wet_grams', data=species_2_data, aspect=1.5)\n",
    "plt.title('Length vs. Weight for Species 2')  # Replace with actual species name\n",
    "plt.xlabel('Length (cm)')\n",
    "plt.ylabel('Weight (g)')\n",
    "plt.show()\n",
    "\n",
    "# Plot for species 3 (replace with actual species name)\n",
    "species_3_data = salmon[salmon['species_common_name'] == 'Species_3']  # Replace 'Species_3' with the actual species name\n",
    "plt.figure(figsize=(10, 6))\n",
    "sns.lmplot(x='length_wet_cm', y='weight_wet_grams', data=species_3_data, aspect=1.5)\n",
    "plt.title('Length vs. Weight for Species 3')  # Replace with actual species name\n",
    "plt.xlabel('Length (cm)')\n",
    "plt.ylabel('Weight (g)')\n",
    "plt.show()\n",
    "\n"
   ]
  },
  {
   "cell_type": "markdown",
   "metadata": {},
   "source": [
    "### <span style=\"color:#8ac0ff;\">Presentation 1</span>\n"
   ]
  },
  {
   "cell_type": "markdown",
   "metadata": {},
   "source": [
    "1. \n",
    "Genetic Variation Across Populations\n",
    "Hypothesis: Certain genetic mutations (I want to have a focus on neurodegenerative diseases if possible. Otherwise some other diseases that could be genetic/hereditary) I want to see if there are any coorelations in specific populations (age, sex, race, etc.) or regions through the world."
   ]
  },
  {
   "cell_type": "markdown",
   "metadata": {},
   "source": [
    "1.a. \n",
    "\t\n",
    "\tGenetic Variation Across Populations\n",
    "\t[Refined] Hypotheses:\n",
    "\n",
    "\tH1: Certain SNPs are significantly more prevalent in specific geographic populations, reflecting historical migration patterns.\n",
    "\tH2: There’s a correlation between specific genetic variants and environmental factors like altitude or climate.\n",
    "\tH3: Population substructures (hidden genetic groupings within larger populations) can be detected through PCA or clustering techniques.\n",
    "\tData Sources:\n",
    "\n",
    "\t1000 Genomes Project: Provides comprehensive SNP data from diverse populations.\n",
    "\tHGDP (Human Genome Diversity Project): Offers genetic data from indigenous populations worldwide.\n",
    "\tApproaches:\n",
    "\n",
    "\tPCA/Cluster Analysis: Identify how populations cluster based on genetic similarities.\n",
    "\tFST Analysis (Fixation Index): Measure genetic differentiation between populations.\n",
    "\tVisualization Ideas:\n",
    "\tPCA scatter plots colored by population groups.\n",
    "\tWorld maps with pie charts indicating allele frequencies.\n",
    "\tHeatmaps showing genetic distances between populations.\n"
   ]
  },
  {
   "cell_type": "markdown",
   "metadata": {},
   "source": [
    "1.b. \n",
    "\t\t\n",
    "\t\t1. Define the Focus\n",
    "\t\tWe can refine the hypothesis even more depending on the disease and type of analysis you're interested in.\n",
    "\n",
    "\t\tPossible Hypotheses:\n",
    "\n",
    "\t\tH1: Differential gene expression can distinguish cancerous tissues from healthy tissues.\n",
    "\t\tH2: Certain gene expression profiles can predict patient outcomes (e.g., survival rates in cancer patients).\n",
    "\t\tH3: Gene co-expression networks reveal key regulatory genes responsible for disease progression.\n",
    "\t\tDo you want to focus on a specific disease, like cancer (e.g., breast, lung, leukemia), or explore something more broad, like autoimmune diseases or diabetes?\n",
    "\n",
    "\t\t2. Data Sources & Acquisition\n",
    "\t\tHere are a couple of great places to get started:\n",
    "\n",
    "\t\tThe Cancer Genome Atlas (TCGA):\n",
    "\n",
    "\t\tOffers RNA-seq data for various cancer types along with clinical metadata (e.g., patient outcomes).\n",
    "\t\tWe can use the TCGAbiolinks library to fetch data directly into Python.\n",
    "\t\tGene Expression Omnibus (GEO):\n",
    "\n",
    "\t\tContains expression data for a variety of diseases, not just cancer.\n",
    "\t\tWe can use the GEOparse library to work with this data.\n",
    "\t\tArrayExpress:\n",
    "\n",
    "\t\tSimilar to GEO but might have unique datasets, especially for non-cancer diseases.\n",
    "\t\t3. Data Science Workflow\n",
    "\t\tHere’s a high-level overview of what we can do:\n",
    "\n",
    "\t\tData Preprocessing:\n",
    "\n",
    "\t\tClean and normalize the gene expression data (e.g., log transformation).\n",
    "\t\tMerge with clinical metadata (like disease status or survival outcomes).\n",
    "\t\tExploratory Data Analysis (EDA):\n",
    "\n",
    "\t\tUse PCA to visualize high-dimensional data.\n",
    "\t\tPlot heatmaps to see clustering of expression profiles.\n",
    "\t\tDifferential Expression Analysis:\n",
    "\n",
    "\t\tUse statistical tests (e.g., t-test, ANOVA) to find genes that are significantly differentially expressed between healthy and diseased samples.\n",
    "\t\tVisualize with volcano plots.\n",
    "\t\tMachine Learning for Prediction:\n",
    "\n",
    "\t\tBuild classifiers (e.g., Random Forest, Logistic Regression, SVM) to predict disease status from gene expression data.\n",
    "\t\tEvaluate performance using ROC curves and confusion matrices.\n",
    "\t\tGene Network Analysis (Optional but cool!):\n",
    "\n",
    "\t\tConstruct co-expression networks to identify hub genes that might play key roles in disease pathways.\n",
    "\t\tUse libraries like NetworkX for visualization.\n",
    "\t\t4. Visualization Ideas\n",
    "\t\tVolcano Plot: Shows genes that are significantly upregulated or downregulated.\n",
    "\t\tHeatmaps: For gene expression clustering.\n",
    "\t\tPCA Plots: Visualize how well samples separate based on disease status.\n",
    "\t\tROC Curves: To evaluate the accuracy of your predictive models.\n",
    "\t\tGene Co-expression Networks: Visual graphs showing how genes interact in diseased vs. healthy samples."
   ]
  },
  {
   "cell_type": "markdown",
   "metadata": {},
   "source": [
    "1.c. \n",
    "\t\t\t1. Data Acquisition:\n",
    "\t\t\tTo compare multiple neurodegenerative disorders, you'll need comprehensive and well-annotated datasets. Here are some valuable resources:\n",
    "\n",
    "\t\t\tGene Expression Omnibus (GEO): A vast repository of gene expression data across various conditions.\n",
    "\n",
    "\t\t\tDataset Example: GSE26927 provides genome-wide gene expression data for Alzheimer's disease, amyotrophic lateral sclerosis, Huntington's disease, multiple sclerosis, Parkinson's disease, and schizophrenia using post-mortem CNS tissues. \n",
    "\t\t\tNCBI.NLM.NIH.GOV\n",
    "\t\t\tNeurodegenerative Disease Knowledge Portal (NDKP): Contains genomic datasets, including genotyping and sequencing studies, across multiple neurodegenerative diseases. \n",
    "\t\t\tPMC.NCBI.NLM.NIH.GOV\n",
    "\n",
    "\t\t\tNIAGADS Data Sharing Service: Offers datasets like the Seattle Alzheimer's Disease Brain Cell Atlas, which includes whole genome sequencing and genotyping data. \n",
    "\t\t\tDSS.NIAGADS.ORG\n",
    "\n",
    "\t\t\tElucidata's Curated Datasets: Provides transcriptomic and single-cell data for diseases such as ALS, Parkinson's, Huntington's, and Alzheimer's. \n",
    "\t\t\tELUCIDATA.IO\n",
    "\n",
    "\t\t\tAccessing Data:\n",
    "\n",
    "\t\t\tGEO: Use the GEOquery package in R or download data directly from the GEO website.\n",
    "\n",
    "\t\t\tNDKP and NIAGADS: These platforms may require account creation and data access requests due to controlled access policies.\n",
    "\n",
    "\t\t\t2. Analysis Pipeline Setup:\n",
    "\n",
    "\t\t\tA structured analysis pipeline ensures reproducibility and efficiency. Here's a step-by-step guide:\n",
    "\n",
    "\t\t\ta. Data Preprocessing:\n",
    "\n",
    "\t\t\tQuality Control: Assess raw sequencing data quality using tools like FastQC.\n",
    "\n",
    "\t\t\tTrimming: Remove low-quality bases and adapters with tools such as Trimmomatic or Cutadapt.\n",
    "\n",
    "\t\t\tb. Alignment:\n",
    "\n",
    "\t\t\tAlign Reads: Map reads to a reference genome using aligners like STAR or HISAT2.\n",
    "\t\t\tc. Quantification:\n",
    "\n",
    "\t\t\tCount Reads: Use featureCounts or HTSeq to assign reads to genomic features, generating a count matrix.\n",
    "\t\t\td. Differential Expression Analysis:\n",
    "\n",
    "\t\t\tNormalization and Statistical Testing: Utilize DESeq2 for normalization and identification of differentially expressed genes.\n",
    "\t\t\te. Functional Enrichment:\n",
    "\n",
    "\t\t\tPathway Analysis: Employ tools like clusterProfiler to identify enriched biological pathways among differentially expressed genes.\n",
    "\t\t\tPython Integration:\n",
    "\n",
    "\t\t\tWhile many RNA-Seq analysis tools are R-based, Python offers alternatives:\n",
    "\n",
    "\t\t\tpyDESeq2: A Python implementation of DESeq2 for differential expression analysis. \n",
    "\t\t\tYOUTUBE.COM\n",
    "\n",
    "\t\t\tpyrpipe: A Python package providing access to popular RNA-Seq tools via high-level APIs, facilitating pipeline customization. \n",
    "\t\t\tACADEMIC.OUP.COM\n",
    "\n",
    "\t\t\tWorkflow Management:\n",
    "\n",
    "\t\t\tSnakemake: A Python-based workflow management system that ensures reproducibility and scalability.\n",
    "\t\t\tVisualization:\n",
    "\n",
    "\t\t\tHeatmaps and PCA Plots: Use libraries like Matplotlib and Seaborn in Python or ggplot2 in R to visualize gene expression patterns and sample clustering.\n",
    "\n",
    "\t\t\t3. Additional Resources:\n",
    "\n",
    "\t\t\tTutorials:\n",
    "\n",
    "\t\t\tRNA-Seq Data Analysis Pipeline: A comprehensive guide detailing each step of the RNA-Seq analysis process. \n",
    "\t\t\tPMC.NCBI.NLM.NIH.GOV\n",
    "\n",
    "\t\t\tPyDESeq2 Workflow: An example workflow demonstrating differential expression analysis using PyDESeq2. \n",
    "\t\t\tPYDESEQ2.READTHEDOCS.IO\n",
    "\n",
    "\t\t\tVideo Guides:\n",
    "\n",
    "\t\t\tDifferential Expression in Python with pyDESeq2: A tutorial covering basic differential expression analysis, PCA plots, and GSEA. \n",
    "\t\t\tYOUTUBE.COM\n",
    "\n",
    "\t\t\tSetup RNA-Seq Pipeline from Scratch: A step-by-step video guide on setting up an RNA-Seq analysis pipeline. \n",
    "\t\t\tYOUTUBE.COM\n",
    "\n"
   ]
  },
  {
   "cell_type": "markdown",
   "metadata": {},
   "source": [
    "## <span style=\"color:#BDDEEC;\">2025-02-12 - Climate Data Analysis</span>\n"
   ]
  },
  {
   "cell_type": "markdown",
   "metadata": {},
   "source": [
    "Let's get ~10 weather stations in Alaska that align with our fishing datasets to get a general idea of what the temperatures are like where we are fishing.\n",
    "\n",
    "We will later cluster these and give it names for each channel fishing location and weather station.\n",
    "\n",
    "Homer, Juneau, and Kodiak are some big name fishing spots in Alaska"
   ]
  },
  {
   "cell_type": "markdown",
   "metadata": {},
   "source": [
    "1. Anchorage International Airport (PANC)\n",
    "\n",
    "    * Location: Anchorage, AK\n",
    "\n",
    "    * Coordinates: 61.1743° N, 149.9982° W\n",
    "\n",
    "    * Description: Major weather station providing extensive data for south-central Alaska.\n",
    "\n",
    "2. Fairbanks International Airport (PAFA)\n",
    "\n",
    "    * Location: Fairbanks, AK\n",
    "\n",
    "    * Coordinates: 64.8039° N, 147.8761° W\n",
    "\n",
    "    * Description: Key station offering data for interior Alaska.\n",
    "\n",
    "3. Juneau International Airport (PAJN)\n",
    "\n",
    "    * Location: Juneau, AK\n",
    "\n",
    "    * Coordinates: 58.3549° N, 134.5763° W\n",
    "\n",
    "    * Description: Provides weather data for the southeastern region.\n",
    "\n",
    "4. Nome Airport (PAOM)\n",
    "\n",
    "    * Location: Nome, AK\n",
    "\n",
    "    * Coordinates: 64.5122° N, 165.4452° W\n",
    "\n",
    "    * Description: Covers the western coastal areas.\n",
    "\n",
    "5. Barrow (Utqiaġvik) Wiley Post–Will Rogers Memorial Airport (PABR)\n",
    "\n",
    "    * Location: Utqiaġvik, AK\n",
    "\n",
    "    * Coordinates: 71.2854° N, 156.7660° W\n",
    "\n",
    "    * Description: Northernmost station providing Arctic data.\n",
    "\n",
    "6. Kodiak Airport (PADQ)\n",
    "\n",
    "    * Location: Kodiak, AK\n",
    "\n",
    "    * Coordinates: 57.7499° N, 152.4938° W\n",
    "\n",
    "    * Description: Offers data for the Gulf of Alaska region.\n",
    "\n",
    "7. Bethel Airport (PABE)\n",
    "\n",
    "    * Location: Bethel, AK\n",
    "\n",
    "    * Coordinates: 60.7798° N, 161.8370° W\n",
    "\n",
    "    * Description: Provides information for the Yukon-Kuskokwim Delta.\n",
    "\n",
    "8. King Salmon Airport (PAKN)\n",
    "\n",
    "    * Location: King Salmon, AK\n",
    "\n",
    "    * Coordinates: 58.6768° N, 156.6492° W\n",
    "\n",
    "    * Description: Covers the Bristol Bay area.\n",
    "\n",
    "9. Yakutat Airport (PAYA)\n",
    "\n",
    "    * Location: Yakutat, AK\n",
    "\n",
    "    * Coordinates: 59.5033° N, 139.6602° W\n",
    "\n",
    "    * Description: Provides data for the northern Gulf Coast.\n",
    "\n",
    "10. McGrath Airport (PAMC)\n",
    "\n",
    "    * Location: McGrath, AK\n",
    "\n",
    "    * Coordinates: 62.9529° N, 155.6060° W\n",
    "\n",
    "    * Description: Offers insights into central Alaska's weather patterns.\n",
    "\n"
   ]
  },
  {
   "cell_type": "markdown",
   "metadata": {},
   "source": [
    "<span style=\"color:#BDDEEC ;\"> <b>Demo our weather station datasets</span>\n"
   ]
  },
  {
   "cell_type": "markdown",
   "metadata": {},
   "source": [
    "<span style=\"color:#ff0000;\"><b>How we query for the above:</b></span>"
   ]
  },
  {
   "cell_type": "markdown",
   "metadata": {},
   "source": [
    "Climate Sources:\n",
    "\n",
    "* select Location Type\n",
    "    * State\n",
    "        * Alaska\n",
    "            \n",
    "https://www.ncdc.noaa.gov/cdo-web/datatools/lcd"
   ]
  },
  {
   "cell_type": "markdown",
   "metadata": {},
   "source": [
    "## <span style=\"color:#ffd900;\">2025-02-26 - Check in Key Points</span>\n"
   ]
  },
  {
   "cell_type": "markdown",
   "metadata": {},
   "source": [
    "Climate Data\n",
    "\n",
    "* Need to get more Sea data.\n",
    "* Thermal levels through the years\n",
    "    * NOAA as a resource\n",
    "\n",
    "Salmon Data\n",
    "\n",
    "* More of the same but with more year ranges and focus on last few years especially\n",
    "* Possibly start thinking about adding more fish in alaska and if there are similiar signs of change in relation to the climate data through the years\n",
    "\n",
    "Alaska Economic Data\n",
    "\n",
    "* see datasets relating to Alaska economy like trucking, canning industry\n",
    "\n",
    "\n",
    "See information about glaciers in Alaska, figure out how to overlay that data on an Alaskan map\n"
   ]
  },
  {
   "cell_type": "markdown",
   "metadata": {},
   "source": [
    "## <span style=\"color:#FA8072;\">2025-03-13 - Data Analysis (Plotnine library)</span>\n"
   ]
  },
  {
   "cell_type": "markdown",
   "metadata": {},
   "source": [
    "* using NOAA finding climate data for the date range I have for the Salmon datasets"
   ]
  },
  {
   "cell_type": "code",
   "execution_count": null,
   "metadata": {},
   "outputs": [],
   "source": [
    "'''\n",
    "from plotnine import ggplot, geom_point, aes, stat_smooth, facet_wrap\n",
    "from plotnine.data import mtcars\n",
    "\n",
    "(\n",
    "    ggplot(mtcars, aes(\"wt\", \"mpg\", color=\"factor(gear)\"))\n",
    "    + geom_point()\n",
    "    + stat_smooth(method=\"lm\")\n",
    "    + facet_wrap(\"gear\")\n",
    ")\n",
    "'''"
   ]
  },
  {
   "cell_type": "markdown",
   "metadata": {},
   "source": [
    "### <span style=\"color:#FA8072;\">Filtering our Salmon datasets</span>"
   ]
  },
  {
   "cell_type": "code",
   "execution_count": 11,
   "metadata": {},
   "outputs": [],
   "source": [
    "# salmon.head(3)\n",
    "salmon_2001 = salmon[salmon[\"year\"] == 2001]"
   ]
  },
  {
   "cell_type": "code",
   "execution_count": 12,
   "metadata": {},
   "outputs": [
    {
     "name": "stdout",
     "output_type": "stream",
     "text": [
      "      year      transect sta_id  haul_id  month_local  day_local  yrday_local  \\\n",
      "0     2001     Icy_Point    IP2  2001001            7         17          198   \n",
      "1     2001     Icy_Point    IP2  2001001            7         17          198   \n",
      "2     2001     Icy_Point    IP2  2001001            7         17          198   \n",
      "3     2001     Icy_Point    IP2  2001001            7         17          198   \n",
      "4     2001     Icy_Point    IP2  2001001            7         17          198   \n",
      "...    ...           ...    ...      ...          ...        ...          ...   \n",
      "4138  2001  Cape_Kaguyak  CKAG6  2001075            8          6          218   \n",
      "4139  2001  Cape_Kaguyak  CKAG6  2001075            8          6          218   \n",
      "4140  2001  Cape_Kaguyak  CKAG6  2001075            8          6          218   \n",
      "4141  2001  Cape_Kaguyak  CKAG6  2001075            8          6          218   \n",
      "4142  2001  Cape_Kaguyak  CKAG6  2001075            8          6          218   \n",
      "\n",
      "      latitude  longitude depth_w_meters  ... length_frozen_cm length_wet_cm  \\\n",
      "0        58.20    -137.20             64  ...               nd           120   \n",
      "1        58.20    -137.20             64  ...               nd           698   \n",
      "2        58.20    -137.20             64  ...              111            nd   \n",
      "3        58.20    -137.20             64  ...              102            nd   \n",
      "4        58.20    -137.20             64  ...              100            nd   \n",
      "...        ...        ...            ...  ...              ...           ...   \n",
      "4138     55.69    -152.92             nd  ...               nd           377   \n",
      "4139     55.69    -152.92             nd  ...               nd           324   \n",
      "4140     55.69    -152.92             nd  ...               nd           356   \n",
      "4141     55.69    -152.92             nd  ...               nd           466   \n",
      "4142     55.69    -152.92             nd  ...               nd           320   \n",
      "\n",
      "     weight_froz_grams weight_wet_grams sex maturity stomwt_full stomwt_empty  \\\n",
      "0                   nd              127  nd        J           0            0   \n",
      "1                   nd             4108   M        A           0            0   \n",
      "2                    1               nd  nd        J           0            0   \n",
      "3                   10               nd  nd        J           0            0   \n",
      "4                    9               nd  nd        J           0            0   \n",
      "...                ...              ...  ..      ...         ...          ...   \n",
      "4138                nd              635   M        I           0            0   \n",
      "4139                nd              357   F        I           0            0   \n",
      "4140                nd              497   M        I           0            0   \n",
      "4141                nd             1172   F        I           0            0   \n",
      "4142                nd              368   M        I           0            0   \n",
      "\n",
      "     sealice comments  \n",
      "0          0       nd  \n",
      "1          0       nd  \n",
      "2          0       nd  \n",
      "3          0       nd  \n",
      "4          0       nd  \n",
      "...      ...      ...  \n",
      "4138       0       nd  \n",
      "4139       0       nd  \n",
      "4140       0       nd  \n",
      "4141       0       nd  \n",
      "4142       0       nd  \n",
      "\n",
      "[4143 rows x 21 columns]\n"
     ]
    }
   ],
   "source": [
    "print(salmon_2001)"
   ]
  },
  {
   "cell_type": "code",
   "execution_count": 13,
   "metadata": {},
   "outputs": [
    {
     "data": {
      "text/plain": [
       "year                     int64\n",
       "transect                object\n",
       "sta_id                  object\n",
       "haul_id                  int64\n",
       "month_local              int64\n",
       "day_local                int64\n",
       "yrday_local              int64\n",
       "latitude               float64\n",
       "longitude              float64\n",
       "depth_w_meters          object\n",
       "species_common_name     object\n",
       "length_frozen_cm        object\n",
       "length_wet_cm           object\n",
       "weight_froz_grams       object\n",
       "weight_wet_grams        object\n",
       "sex                     object\n",
       "maturity                object\n",
       "stomwt_full             object\n",
       "stomwt_empty            object\n",
       "sealice                 object\n",
       "comments                object\n",
       "dtype: object"
      ]
     },
     "execution_count": 13,
     "metadata": {},
     "output_type": "execute_result"
    }
   ],
   "source": [
    "salmon_2001.dtypes"
   ]
  },
  {
   "cell_type": "code",
   "execution_count": 14,
   "metadata": {},
   "outputs": [
    {
     "name": "stdout",
     "output_type": "stream",
     "text": [
      "['Chinook', 'Chum', 'Coho', 'Pink', 'Sockeye']\n"
     ]
    }
   ],
   "source": [
    "print(sorted(salmon[\"species_common_name\"].unique()))\n"
   ]
  },
  {
   "cell_type": "code",
   "execution_count": 15,
   "metadata": {},
   "outputs": [
    {
     "name": "stdout",
     "output_type": "stream",
     "text": [
      "species_common_name\n",
      "Pink       12615\n",
      "Chum        9543\n",
      "Sockeye     2460\n",
      "Coho        2170\n",
      "Chinook      722\n",
      "Name: count, dtype: int64\n"
     ]
    }
   ],
   "source": [
    "print(salmon[\"species_common_name\"].value_counts())\n"
   ]
  },
  {
   "cell_type": "code",
   "execution_count": 16,
   "metadata": {},
   "outputs": [],
   "source": [
    "salmon_2001_Pink = salmon[(salmon[\"year\"] == 2001) & (salmon[\"species_common_name\"] == \"Pink\")]\n",
    "salmon_2001_Chum = salmon[(salmon[\"year\"] == 2001) & (salmon[\"species_common_name\"] == \"Chum\")]\n",
    "salmon_2001_Sockeye = salmon[(salmon[\"year\"] == 2001) & (salmon[\"species_common_name\"] == \"Sockeye\")]\n",
    "salmon_2001_Coho = salmon[(salmon[\"year\"] == 2001) & (salmon[\"species_common_name\"] == \"Coho\")]\n",
    "salmon_2001_Chinook = salmon[(salmon[\"year\"] == 2001) & (salmon[\"species_common_name\"] == \"Chinook\")]\n",
    "\n",
    "\n",
    "\n"
   ]
  },
  {
   "cell_type": "code",
   "execution_count": 17,
   "metadata": {},
   "outputs": [
    {
     "name": "stdout",
     "output_type": "stream",
     "text": [
      "      year      transect sta_id  haul_id  month_local  day_local  yrday_local  \\\n",
      "97    2001     Icy_Point    IP2  2001001            7         17          198   \n",
      "98    2001     Icy_Point    IP2  2001001            7         17          198   \n",
      "99    2001     Icy_Point    IP2  2001001            7         17          198   \n",
      "100   2001     Icy_Point    IP2  2001001            7         17          198   \n",
      "101   2001     Icy_Point    IP2  2001001            7         17          198   \n",
      "...    ...           ...    ...      ...          ...        ...          ...   \n",
      "3988  2001  Cape_Kaguyak  CKAG4  2001073            8          5          217   \n",
      "3989  2001  Cape_Kaguyak  CKAG4  2001073            8          5          217   \n",
      "3990  2001  Cape_Kaguyak  CKAG4  2001073            8          5          217   \n",
      "3991  2001  Cape_Kaguyak  CKAG4  2001073            8          5          217   \n",
      "4108  2001  Cape_Kaguyak  CKAG5  2001074            8          5          217   \n",
      "\n",
      "      latitude  longitude depth_w_meters  ... length_frozen_cm length_wet_cm  \\\n",
      "97       58.20    -137.20             64  ...              106           110   \n",
      "98       58.20    -137.20             64  ...              125           128   \n",
      "99       58.20    -137.20             64  ...              115           116   \n",
      "100      58.20    -137.20             64  ...               99           103   \n",
      "101      58.20    -137.20             64  ...              126           129   \n",
      "...        ...        ...            ...  ...              ...           ...   \n",
      "3988     56.13    -153.36            512  ...               nd           542   \n",
      "3989     56.13    -153.36            512  ...               nd           470   \n",
      "3990     56.13    -153.36            512  ...               nd           484   \n",
      "3991     56.13    -153.36            512  ...               nd           517   \n",
      "4108     55.91    -153.14             nd  ...               nd           500   \n",
      "\n",
      "     weight_froz_grams weight_wet_grams sex maturity stomwt_full stomwt_empty  \\\n",
      "97                  12               11  nd        J           0            0   \n",
      "98                  18               18  nd        J           0            0   \n",
      "99                  13               14  nd        J           0            0   \n",
      "100                  8                9  nd        J           0            0   \n",
      "101                 18               19  nd        J           0            0   \n",
      "...                ...              ...  ..      ...         ...          ...   \n",
      "3988                nd             1930   M        A           0            0   \n",
      "3989                nd             1065   M        A           0            0   \n",
      "3990                nd             1354   M        A           0            0   \n",
      "3991                nd             1650   F        A           0            0   \n",
      "4108                nd             1300   F        A           0            0   \n",
      "\n",
      "     sealice comments  \n",
      "97         0       nd  \n",
      "98         0       nd  \n",
      "99         0       nd  \n",
      "100        0       nd  \n",
      "101        0       nd  \n",
      "...      ...      ...  \n",
      "3988       0       nd  \n",
      "3989       0       nd  \n",
      "3990       0       nd  \n",
      "3991       0       nd  \n",
      "4108       0       nd  \n",
      "\n",
      "[1158 rows x 21 columns]\n",
      "      year      transect sta_id  haul_id  month_local  day_local  yrday_local  \\\n",
      "1     2001     Icy_Point    IP2  2001001            7         17          198   \n",
      "2     2001     Icy_Point    IP2  2001001            7         17          198   \n",
      "3     2001     Icy_Point    IP2  2001001            7         17          198   \n",
      "4     2001     Icy_Point    IP2  2001001            7         17          198   \n",
      "5     2001     Icy_Point    IP2  2001001            7         17          198   \n",
      "...    ...           ...    ...      ...          ...        ...          ...   \n",
      "4105  2001  Cape_Kaguyak  CKAG5  2001074            8          5          217   \n",
      "4106  2001  Cape_Kaguyak  CKAG5  2001074            8          5          217   \n",
      "4107  2001  Cape_Kaguyak  CKAG5  2001074            8          5          217   \n",
      "4131  2001  Cape_Kaguyak  CKAG6  2001075            8          6          218   \n",
      "4132  2001  Cape_Kaguyak  CKAG6  2001075            8          6          218   \n",
      "\n",
      "      latitude  longitude depth_w_meters  ... length_frozen_cm length_wet_cm  \\\n",
      "1        58.20    -137.20             64  ...               nd           698   \n",
      "2        58.20    -137.20             64  ...              111            nd   \n",
      "3        58.20    -137.20             64  ...              102            nd   \n",
      "4        58.20    -137.20             64  ...              100            nd   \n",
      "5        58.20    -137.20             64  ...              114            nd   \n",
      "...        ...        ...            ...  ...              ...           ...   \n",
      "4105     55.91    -153.14             nd  ...               nd           398   \n",
      "4106     55.91    -153.14             nd  ...               nd           504   \n",
      "4107     55.91    -153.14             nd  ...               nd           423   \n",
      "4131     55.69    -152.92             nd  ...               nd           580   \n",
      "4132     55.69    -152.92             nd  ...               nd           493   \n",
      "\n",
      "     weight_froz_grams weight_wet_grams sex maturity stomwt_full stomwt_empty  \\\n",
      "1                   nd             4108   M        A           0            0   \n",
      "2                    1               nd  nd        J           0            0   \n",
      "3                   10               nd  nd        J           0            0   \n",
      "4                    9               nd  nd        J           0            0   \n",
      "5                   12               nd  nd        J           0            0   \n",
      "...                ...              ...  ..      ...         ...          ...   \n",
      "4105                nd              764   F        I           0            0   \n",
      "4106                nd             1422   M        I           0            0   \n",
      "4107                nd              852   F        I           0            0   \n",
      "4131                nd             2401   F        I           0            0   \n",
      "4132                nd             1418   M        I           0            0   \n",
      "\n",
      "     sealice comments  \n",
      "1          0       nd  \n",
      "2          0       nd  \n",
      "3          0       nd  \n",
      "4          0       nd  \n",
      "5          0       nd  \n",
      "...      ...      ...  \n",
      "4105       0       nd  \n",
      "4106       0       nd  \n",
      "4107       0       nd  \n",
      "4131       0       nd  \n",
      "4132       0       nd  \n",
      "\n",
      "[1912 rows x 21 columns]\n",
      "      year      transect sta_id  haul_id  month_local  day_local  yrday_local  \\\n",
      "127   2001     Icy_Point    IP2  2001001            7         17          198   \n",
      "128   2001     Icy_Point    IP2  2001001            7         17          198   \n",
      "129   2001     Icy_Point    IP2  2001001            7         17          198   \n",
      "130   2001     Icy_Point    IP2  2001001            7         17          198   \n",
      "131   2001     Icy_Point    IP2  2001001            7         17          198   \n",
      "...    ...           ...    ...      ...          ...        ...          ...   \n",
      "4138  2001  Cape_Kaguyak  CKAG6  2001075            8          6          218   \n",
      "4139  2001  Cape_Kaguyak  CKAG6  2001075            8          6          218   \n",
      "4140  2001  Cape_Kaguyak  CKAG6  2001075            8          6          218   \n",
      "4141  2001  Cape_Kaguyak  CKAG6  2001075            8          6          218   \n",
      "4142  2001  Cape_Kaguyak  CKAG6  2001075            8          6          218   \n",
      "\n",
      "      latitude  longitude depth_w_meters  ... length_frozen_cm length_wet_cm  \\\n",
      "127      58.20    -137.20             64  ...               nd           589   \n",
      "128      58.20    -137.20             64  ...               nd           614   \n",
      "129      58.20    -137.20             64  ...               nd           364   \n",
      "130      58.20    -137.20             64  ...               nd           152   \n",
      "131      58.20    -137.20             64  ...               nd           152   \n",
      "...        ...        ...            ...  ...              ...           ...   \n",
      "4138     55.69    -152.92             nd  ...               nd           377   \n",
      "4139     55.69    -152.92             nd  ...               nd           324   \n",
      "4140     55.69    -152.92             nd  ...               nd           356   \n",
      "4141     55.69    -152.92             nd  ...               nd           466   \n",
      "4142     55.69    -152.92             nd  ...               nd           320   \n",
      "\n",
      "     weight_froz_grams weight_wet_grams sex maturity stomwt_full stomwt_empty  \\\n",
      "127                 nd             2590   F        A           0            0   \n",
      "128                 nd             2950   F        A           0            0   \n",
      "129                 nd              664  nd        A           0            0   \n",
      "130                 nd               35  nd        J           0            0   \n",
      "131                 nd               34  nd        J           0            0   \n",
      "...                ...              ...  ..      ...         ...          ...   \n",
      "4138                nd              635   M        I           0            0   \n",
      "4139                nd              357   F        I           0            0   \n",
      "4140                nd              497   M        I           0            0   \n",
      "4141                nd             1172   F        I           0            0   \n",
      "4142                nd              368   M        I           0            0   \n",
      "\n",
      "     sealice comments  \n",
      "127        0       nd  \n",
      "128        0       nd  \n",
      "129        0       nd  \n",
      "130        0       nd  \n",
      "131        0       nd  \n",
      "...      ...      ...  \n",
      "4138       0       nd  \n",
      "4139       0       nd  \n",
      "4140       0       nd  \n",
      "4141       0       nd  \n",
      "4142       0       nd  \n",
      "\n",
      "[461 rows x 21 columns]\n",
      "      year      transect sta_id  haul_id  month_local  day_local  yrday_local  \\\n",
      "91    2001     Icy_Point    IP2  2001001            7         17          198   \n",
      "92    2001     Icy_Point    IP2  2001001            7         17          198   \n",
      "93    2001     Icy_Point    IP2  2001001            7         17          198   \n",
      "94    2001     Icy_Point    IP2  2001001            7         17          198   \n",
      "95    2001     Icy_Point    IP2  2001001            7         17          198   \n",
      "...    ...           ...    ...      ...          ...        ...          ...   \n",
      "3938  2001  Cape_Kaguyak  CKAG2  2001071            8          5          217   \n",
      "3939  2001  Cape_Kaguyak  CKAG2  2001071            8          5          217   \n",
      "3940  2001  Cape_Kaguyak  CKAG2  2001071            8          5          217   \n",
      "3957  2001  Cape_Kaguyak  CKAG3  2001072            8          5          217   \n",
      "3985  2001  Cape_Kaguyak  CKAG4  2001073            8          5          217   \n",
      "\n",
      "      latitude  longitude depth_w_meters  ... length_frozen_cm length_wet_cm  \\\n",
      "91       58.20    -137.20             64  ...               nd           718   \n",
      "92       58.20    -137.20             64  ...               nd           245   \n",
      "93       58.20    -137.20             64  ...               nd           215   \n",
      "94       58.20    -137.20             64  ...               nd           210   \n",
      "95       58.20    -137.20             64  ...               nd           213   \n",
      "...        ...        ...            ...  ...              ...           ...   \n",
      "3938     56.49    -153.72             47  ...               nd           630   \n",
      "3939     56.49    -153.72             47  ...               nd           316   \n",
      "3940     56.49    -153.72             47  ...               nd           208   \n",
      "3957     56.27    -153.51             40  ...               nd           640   \n",
      "3985     56.13    -153.36            512  ...               nd           566   \n",
      "\n",
      "     weight_froz_grams weight_wet_grams sex maturity stomwt_full stomwt_empty  \\\n",
      "91                  nd             4926  nd        A           0            0   \n",
      "92                  nd              156  nd        J           0            0   \n",
      "93                  nd              108  nd        J           0            0   \n",
      "94                  nd              105  nd        J           0            0   \n",
      "95                  nd              106  nd        J           0            0   \n",
      "...                ...              ...  ..      ...         ...          ...   \n",
      "3938                nd             3556   F        A           0            0   \n",
      "3939                nd              421  nd        J           0            0   \n",
      "3940                nd              105  nd        J           0            0   \n",
      "3957                nd             3308   M        A           0            0   \n",
      "3985                nd             2128   M        A           0            0   \n",
      "\n",
      "     sealice comments  \n",
      "91         0       nd  \n",
      "92         0       nd  \n",
      "93         0       nd  \n",
      "94         0       nd  \n",
      "95         0       nd  \n",
      "...      ...      ...  \n",
      "3938       0       nd  \n",
      "3939       0       nd  \n",
      "3940       0       nd  \n",
      "3957       0       nd  \n",
      "3985       0       nd  \n",
      "\n",
      "[539 rows x 21 columns]\n",
      "      year       transect sta_id  haul_id  month_local  day_local  \\\n",
      "0     2001      Icy_Point    IP2  2001001            7         17   \n",
      "347   2001     Ocean_Cape    OC5  2001007            7         19   \n",
      "511   2001     Ocean_Cape    OC4  2001008            7         19   \n",
      "512   2001     Ocean_Cape    OC4  2001008            7         19   \n",
      "513   2001     Ocean_Cape    OC4  2001008            7         19   \n",
      "...    ...            ...    ...      ...          ...        ...   \n",
      "3606  2001  Cape_Kekurnoi    CK1  2001067            8          4   \n",
      "3607  2001  Cape_Kekurnoi    CK1  2001067            8          4   \n",
      "3817  2001  Cape_Kekurnoi    CK3  2001069            8          4   \n",
      "3927  2001   Cape_Kaguyak  CKAG2  2001071            8          5   \n",
      "3995  2001   Cape_Kaguyak  CKAG5  2001074            8          5   \n",
      "\n",
      "      yrday_local  latitude  longitude depth_w_meters  ... length_frozen_cm  \\\n",
      "0             198     58.20    -137.20             64  ...               nd   \n",
      "347           200     58.87    -140.11           89.8  ...               nd   \n",
      "511           200     59.03    -140.05           68.4  ...               nd   \n",
      "512           200     59.03    -140.05           68.4  ...               nd   \n",
      "513           200     59.03    -140.05           68.4  ...               nd   \n",
      "...           ...       ...        ...            ...  ...              ...   \n",
      "3606          216     57.70    -155.28            153  ...               nd   \n",
      "3607          216     57.70    -155.28            153  ...               nd   \n",
      "3817          216     57.42    -154.76             33  ...               nd   \n",
      "3927          217     56.49    -153.72             47  ...               nd   \n",
      "3995          217     55.91    -153.14             nd  ...               nd   \n",
      "\n",
      "     length_wet_cm weight_froz_grams weight_wet_grams sex maturity  \\\n",
      "0              120                nd              127  nd        J   \n",
      "347            236                nd              184  nd        J   \n",
      "511            252                nd              207  nd        A   \n",
      "512            272                nd              256  nd        J   \n",
      "513            234                nd              174  nd        J   \n",
      "...            ...               ...              ...  ..      ...   \n",
      "3606           454                nd             1304   m        I   \n",
      "3607           355                nd              601   m        I   \n",
      "3817           332                nd              481   f        I   \n",
      "3927           380                nd              851   f        I   \n",
      "3995           582                nd             2582   m        I   \n",
      "\n",
      "     stomwt_full stomwt_empty sealice comments  \n",
      "0              0            0       0       nd  \n",
      "347            0            0       0       nd  \n",
      "511            0            0       0       nd  \n",
      "512            0            0       0       nd  \n",
      "513            0            0       0       nd  \n",
      "...          ...          ...     ...      ...  \n",
      "3606           0            0       0       nd  \n",
      "3607           0            0       0       nd  \n",
      "3817           0            0       0       nd  \n",
      "3927           0            0       0       nd  \n",
      "3995           0            0       0       nd  \n",
      "\n",
      "[73 rows x 21 columns]\n"
     ]
    }
   ],
   "source": [
    "print(salmon_2001_Pink)\n",
    "print(salmon_2001_Chum)\n",
    "print(salmon_2001_Sockeye)\n",
    "print(salmon_2001_Coho)\n",
    "print(salmon_2001_Chinook)"
   ]
  },
  {
   "cell_type": "markdown",
   "metadata": {},
   "source": [
    "Add total count column "
   ]
  },
  {
   "cell_type": "code",
   "execution_count": 18,
   "metadata": {},
   "outputs": [
    {
     "name": "stderr",
     "output_type": "stream",
     "text": [
      "C:\\Users\\mecto\\AppData\\Local\\Temp\\ipykernel_5212\\2366567353.py:1: SettingWithCopyWarning: \n",
      "A value is trying to be set on a copy of a slice from a DataFrame.\n",
      "Try using .loc[row_indexer,col_indexer] = value instead\n",
      "\n",
      "See the caveats in the documentation: https://pandas.pydata.org/pandas-docs/stable/user_guide/indexing.html#returning-a-view-versus-a-copy\n"
     ]
    }
   ],
   "source": [
    "salmon_2001_Pink[\"total_records\"] = len(salmon_2001_Pink)"
   ]
  },
  {
   "cell_type": "markdown",
   "metadata": {},
   "source": [
    "Print just the selected column"
   ]
  },
  {
   "cell_type": "code",
   "execution_count": 19,
   "metadata": {},
   "outputs": [
    {
     "name": "stdout",
     "output_type": "stream",
     "text": [
      "97      1158\n",
      "98      1158\n",
      "99      1158\n",
      "100     1158\n",
      "101     1158\n",
      "        ... \n",
      "3988    1158\n",
      "3989    1158\n",
      "3990    1158\n",
      "3991    1158\n",
      "4108    1158\n",
      "Name: total_records, Length: 1158, dtype: int64\n"
     ]
    }
   ],
   "source": [
    "print(salmon_2001_Pink[\"total_records\"])"
   ]
  },
  {
   "cell_type": "code",
   "execution_count": 20,
   "metadata": {},
   "outputs": [
    {
     "data": {
      "text/plain": [
       "year                     int64\n",
       "transect                object\n",
       "sta_id                  object\n",
       "haul_id                  int64\n",
       "month_local              int64\n",
       "day_local                int64\n",
       "yrday_local              int64\n",
       "latitude               float64\n",
       "longitude              float64\n",
       "depth_w_meters          object\n",
       "species_common_name     object\n",
       "length_frozen_cm        object\n",
       "length_wet_cm           object\n",
       "weight_froz_grams       object\n",
       "weight_wet_grams        object\n",
       "sex                     object\n",
       "maturity                object\n",
       "stomwt_full             object\n",
       "stomwt_empty            object\n",
       "sealice                 object\n",
       "comments                object\n",
       "dtype: object"
      ]
     },
     "execution_count": 20,
     "metadata": {},
     "output_type": "execute_result"
    }
   ],
   "source": [
    "salmon.dtypes"
   ]
  },
  {
   "cell_type": "code",
   "execution_count": 21,
   "metadata": {},
   "outputs": [
    {
     "ename": "NameError",
     "evalue": "name 'geom_bar' is not defined",
     "output_type": "error",
     "traceback": [
      "\u001b[1;31m---------------------------------------------------------------------------\u001b[0m",
      "\u001b[1;31mNameError\u001b[0m                                 Traceback (most recent call last)",
      "Cell \u001b[1;32mIn[21], line 3\u001b[0m\n\u001b[0;32m      1\u001b[0m \u001b[38;5;28;01mfrom\u001b[39;00m \u001b[38;5;21;01mplotnine\u001b[39;00m \u001b[38;5;28;01mimport\u001b[39;00m ggplot, geom_point, aes, stat_smooth, facet_wrap\n\u001b[1;32m----> 3\u001b[0m ggplot(salmon,aes(x\u001b[38;5;241m=\u001b[39m\u001b[38;5;124m\"\u001b[39m\u001b[38;5;124mspecies_common_name\u001b[39m\u001b[38;5;124m\"\u001b[39m, y\u001b[38;5;241m=\u001b[39m\u001b[38;5;124m\"\u001b[39m\u001b[38;5;124mcount\u001b[39m\u001b[38;5;124m\"\u001b[39m)) \u001b[38;5;241m+\u001b[39m \u001b[43mgeom_bar\u001b[49m(stat\u001b[38;5;241m=\u001b[39m\u001b[38;5;124m\"\u001b[39m\u001b[38;5;124midentity\u001b[39m\u001b[38;5;124m\"\u001b[39m,fill\u001b[38;5;241m=\u001b[39m\u001b[38;5;124m\"\u001b[39m\u001b[38;5;124mskyblue\u001b[39m\u001b[38;5;124m\"\u001b[39m)\n",
      "\u001b[1;31mNameError\u001b[0m: name 'geom_bar' is not defined"
     ]
    }
   ],
   "source": [
    "from plotnine import ggplot, geom_point, aes, stat_smooth, facet_wrap\n",
    "\n",
    "ggplot(salmon,aes(x=\"species_common_name\", y=\"count\")) + geom_bar(stat=\"identity\",fill=\"skyblue\")"
   ]
  },
  {
   "cell_type": "code",
   "execution_count": 22,
   "metadata": {},
   "outputs": [
    {
     "data": {
      "text/plain": [
       "year                     int64\n",
       "transect                object\n",
       "sta_id                  object\n",
       "haul_id                  int64\n",
       "month_local              int64\n",
       "day_local                int64\n",
       "yrday_local              int64\n",
       "latitude               float64\n",
       "longitude              float64\n",
       "depth_w_meters          object\n",
       "species_common_name     object\n",
       "length_frozen_cm        object\n",
       "length_wet_cm           object\n",
       "weight_froz_grams       object\n",
       "weight_wet_grams        object\n",
       "sex                     object\n",
       "maturity                object\n",
       "stomwt_full             object\n",
       "stomwt_empty            object\n",
       "sealice                 object\n",
       "comments                object\n",
       "dtype: object"
      ]
     },
     "execution_count": 22,
     "metadata": {},
     "output_type": "execute_result"
    }
   ],
   "source": [
    "salmon.dtypes"
   ]
  },
  {
   "cell_type": "markdown",
   "metadata": {},
   "source": [
    "## <span style=\"color:#FA8072;\">2025-03-22 & 2025-03-23 - Data Analysis (Weather Stations & Economy Datasets)</span>\n"
   ]
  },
  {
   "cell_type": "markdown",
   "metadata": {},
   "source": [
    "What to work on 03/23/2025\n",
    "\n",
    "* Organize the weather station csvs"
   ]
  },
  {
   "cell_type": "markdown",
   "metadata": {},
   "source": [
    "getting the climate datasets for the weather stations on NOAA for date ranges 2001-01-01 to 2004-12-31\n",
    "\n",
    "* I used the NCEI (National Centers for Enviornmental Information) to get the 4 years csvs of each of the 10 previously mentioned weather stations\n",
    "    * I have saved locally in a directory named 'Weather Station Datasets'\n",
    "        * Next step is to organzie and pull just the data types and the data ranges I need against my salmon biodata \n",
    "\n",
    "* I have also gathered some economic data for years where it has it broken down by community as well"
   ]
  },
  {
   "cell_type": "markdown",
   "metadata": {},
   "source": [
    "Alaska Employment and Wages csv 2001 to 2016\n",
    "    * I have this csv uploaded to my github for years 2001-2004 for the same weather stations"
   ]
  },
  {
   "cell_type": "code",
   "execution_count": 3,
   "metadata": {},
   "outputs": [],
   "source": [
    "# get dataset\n",
    "import pandas as pd\n",
    "AlaskaEconomy = pd.read_csv('https://github.com/eadamsRU/Masters_Project/raw/refs/heads/main/Alaska%20Economy%202001-2004%20Weather%20Stations.csv')"
   ]
  },
  {
   "cell_type": "code",
   "execution_count": 4,
   "metadata": {},
   "outputs": [
    {
     "data": {
      "text/html": [
       "<div>\n",
       "<style scoped>\n",
       "    .dataframe tbody tr th:only-of-type {\n",
       "        vertical-align: middle;\n",
       "    }\n",
       "\n",
       "    .dataframe tbody tr th {\n",
       "        vertical-align: top;\n",
       "    }\n",
       "\n",
       "    .dataframe thead th {\n",
       "        text-align: right;\n",
       "    }\n",
       "</style>\n",
       "<table border=\"1\" class=\"dataframe\">\n",
       "  <thead>\n",
       "    <tr style=\"text-align: right;\">\n",
       "      <th></th>\n",
       "      <th>OBJECTID</th>\n",
       "      <th>CommunityName</th>\n",
       "      <th>DataYear</th>\n",
       "      <th>ResidentsAge16AndOver</th>\n",
       "      <th>ResidentsEmployed</th>\n",
       "      <th>WagesLessThan5k</th>\n",
       "      <th>Wages5k_10k</th>\n",
       "      <th>Wages10k_20k</th>\n",
       "      <th>Wages20k_50k</th>\n",
       "      <th>WagesGreaterThan50k</th>\n",
       "      <th>...</th>\n",
       "      <th>EmployedIn2ndQtr</th>\n",
       "      <th>EmployedIn3rdQtr</th>\n",
       "      <th>EmployedIn4thQtr</th>\n",
       "      <th>EmployedInAllQtrs</th>\n",
       "      <th>NewHires</th>\n",
       "      <th>LocalLaborMarketInfoURL</th>\n",
       "      <th>TotalWages</th>\n",
       "      <th>UnemploymentInsuranceClaimants</th>\n",
       "      <th>x</th>\n",
       "      <th>y</th>\n",
       "    </tr>\n",
       "  </thead>\n",
       "  <tbody>\n",
       "    <tr>\n",
       "      <th>59</th>\n",
       "      <td>2970</td>\n",
       "      <td>Kodiak Station</td>\n",
       "      <td>2004</td>\n",
       "      <td>409</td>\n",
       "      <td>135</td>\n",
       "      <td>57</td>\n",
       "      <td>19</td>\n",
       "      <td>32</td>\n",
       "      <td>26</td>\n",
       "      <td>1</td>\n",
       "      <td>...</td>\n",
       "      <td>111</td>\n",
       "      <td>96</td>\n",
       "      <td>84</td>\n",
       "      <td>57</td>\n",
       "      <td>57</td>\n",
       "      <td>NaN</td>\n",
       "      <td>1627766</td>\n",
       "      <td>16</td>\n",
       "      <td>-152.503700</td>\n",
       "      <td>57.738100</td>\n",
       "    </tr>\n",
       "    <tr>\n",
       "      <th>60</th>\n",
       "      <td>3396</td>\n",
       "      <td>McGrath</td>\n",
       "      <td>2004</td>\n",
       "      <td>271</td>\n",
       "      <td>182</td>\n",
       "      <td>43</td>\n",
       "      <td>12</td>\n",
       "      <td>32</td>\n",
       "      <td>69</td>\n",
       "      <td>26</td>\n",
       "      <td>...</td>\n",
       "      <td>159</td>\n",
       "      <td>159</td>\n",
       "      <td>140</td>\n",
       "      <td>107</td>\n",
       "      <td>91</td>\n",
       "      <td>NaN</td>\n",
       "      <td>4707457</td>\n",
       "      <td>40</td>\n",
       "      <td>-155.588353</td>\n",
       "      <td>62.950141</td>\n",
       "    </tr>\n",
       "    <tr>\n",
       "      <th>61</th>\n",
       "      <td>3862</td>\n",
       "      <td>Nome Census Area</td>\n",
       "      <td>2004</td>\n",
       "      <td>5942</td>\n",
       "      <td>4357</td>\n",
       "      <td>1198</td>\n",
       "      <td>500</td>\n",
       "      <td>738</td>\n",
       "      <td>1384</td>\n",
       "      <td>537</td>\n",
       "      <td>...</td>\n",
       "      <td>3526</td>\n",
       "      <td>3665</td>\n",
       "      <td>3559</td>\n",
       "      <td>2661</td>\n",
       "      <td>2031</td>\n",
       "      <td>NaN</td>\n",
       "      <td>101699020</td>\n",
       "      <td>1051</td>\n",
       "      <td>-164.256602</td>\n",
       "      <td>64.832997</td>\n",
       "    </tr>\n",
       "    <tr>\n",
       "      <th>62</th>\n",
       "      <td>3877</td>\n",
       "      <td>Nome</td>\n",
       "      <td>2004</td>\n",
       "      <td>2362</td>\n",
       "      <td>1750</td>\n",
       "      <td>242</td>\n",
       "      <td>153</td>\n",
       "      <td>229</td>\n",
       "      <td>703</td>\n",
       "      <td>423</td>\n",
       "      <td>...</td>\n",
       "      <td>1512</td>\n",
       "      <td>1550</td>\n",
       "      <td>1502</td>\n",
       "      <td>1224</td>\n",
       "      <td>629</td>\n",
       "      <td>NaN</td>\n",
       "      <td>60955693</td>\n",
       "      <td>235</td>\n",
       "      <td>-165.408560</td>\n",
       "      <td>64.498090</td>\n",
       "    </tr>\n",
       "    <tr>\n",
       "      <th>63</th>\n",
       "      <td>5844</td>\n",
       "      <td>Yakutat</td>\n",
       "      <td>2004</td>\n",
       "      <td>482</td>\n",
       "      <td>344</td>\n",
       "      <td>80</td>\n",
       "      <td>46</td>\n",
       "      <td>64</td>\n",
       "      <td>128</td>\n",
       "      <td>26</td>\n",
       "      <td>...</td>\n",
       "      <td>306</td>\n",
       "      <td>299</td>\n",
       "      <td>283</td>\n",
       "      <td>196</td>\n",
       "      <td>177</td>\n",
       "      <td>NaN</td>\n",
       "      <td>7238112</td>\n",
       "      <td>108</td>\n",
       "      <td>-139.750032</td>\n",
       "      <td>59.558761</td>\n",
       "    </tr>\n",
       "  </tbody>\n",
       "</table>\n",
       "<p>5 rows × 29 columns</p>\n",
       "</div>"
      ],
      "text/plain": [
       "    OBJECTID     CommunityName  DataYear  ResidentsAge16AndOver  \\\n",
       "59      2970    Kodiak Station      2004                    409   \n",
       "60      3396           McGrath      2004                    271   \n",
       "61      3862  Nome Census Area      2004                   5942   \n",
       "62      3877              Nome      2004                   2362   \n",
       "63      5844           Yakutat      2004                    482   \n",
       "\n",
       "    ResidentsEmployed  WagesLessThan5k  Wages5k_10k  Wages10k_20k  \\\n",
       "59                135               57           19            32   \n",
       "60                182               43           12            32   \n",
       "61               4357             1198          500           738   \n",
       "62               1750              242          153           229   \n",
       "63                344               80           46            64   \n",
       "\n",
       "    Wages20k_50k  WagesGreaterThan50k  ...  EmployedIn2ndQtr  \\\n",
       "59            26                    1  ...               111   \n",
       "60            69                   26  ...               159   \n",
       "61          1384                  537  ...              3526   \n",
       "62           703                  423  ...              1512   \n",
       "63           128                   26  ...               306   \n",
       "\n",
       "    EmployedIn3rdQtr  EmployedIn4thQtr  EmployedInAllQtrs  NewHires  \\\n",
       "59                96                84                 57        57   \n",
       "60               159               140                107        91   \n",
       "61              3665              3559               2661      2031   \n",
       "62              1550              1502               1224       629   \n",
       "63               299               283                196       177   \n",
       "\n",
       "    LocalLaborMarketInfoURL  TotalWages  UnemploymentInsuranceClaimants  \\\n",
       "59                      NaN     1627766                              16   \n",
       "60                      NaN     4707457                              40   \n",
       "61                      NaN   101699020                            1051   \n",
       "62                      NaN    60955693                             235   \n",
       "63                      NaN     7238112                             108   \n",
       "\n",
       "             x          y  \n",
       "59 -152.503700  57.738100  \n",
       "60 -155.588353  62.950141  \n",
       "61 -164.256602  64.832997  \n",
       "62 -165.408560  64.498090  \n",
       "63 -139.750032  59.558761  \n",
       "\n",
       "[5 rows x 29 columns]"
      ]
     },
     "execution_count": 4,
     "metadata": {},
     "output_type": "execute_result"
    }
   ],
   "source": [
    "AlaskaEconomy.tail(5)"
   ]
  },
  {
   "cell_type": "code",
   "execution_count": 5,
   "metadata": {},
   "outputs": [
    {
     "name": "stdout",
     "output_type": "stream",
     "text": [
      "    OBJECTID                     CommunityName  DataYear  \\\n",
      "0        594                         Anchorage      2001   \n",
      "1        624  Anchorage/Mat-Su Economic Region      2001   \n",
      "2        774                            Barrow      2001   \n",
      "3        834                Bethel Census Area      2001   \n",
      "4        849                            Bethel      2001   \n",
      "..       ...                               ...       ...   \n",
      "59      2970                    Kodiak Station      2004   \n",
      "60      3396                           McGrath      2004   \n",
      "61      3862                  Nome Census Area      2004   \n",
      "62      3877                              Nome      2004   \n",
      "63      5844                           Yakutat      2004   \n",
      "\n",
      "    ResidentsAge16AndOver  ResidentsEmployed  WagesLessThan5k  Wages5k_10k  \\\n",
      "0                  181613             118312            19086        11037   \n",
      "1                  225775             144873            24588        13847   \n",
      "2                    2827               2243              375          204   \n",
      "3                    9916               7270             2345         1095   \n",
      "4                    3413               2495              433          231   \n",
      "..                    ...                ...              ...          ...   \n",
      "59                    409                135               57           19   \n",
      "60                    271                182               43           12   \n",
      "61                   5942               4357             1198          500   \n",
      "62                   2362               1750              242          153   \n",
      "63                    482                344               80           46   \n",
      "\n",
      "    Wages10k_20k  Wages20k_50k  WagesGreaterThan50k  ...  EmployedIn2ndQtr  \\\n",
      "0          18498         47595                22103  ...            105374   \n",
      "1          22766         56770                26909  ...            128188   \n",
      "2            217           744                  703  ...              1934   \n",
      "3           1318          1917                  595  ...              5908   \n",
      "4            321          1039                  471  ...              2166   \n",
      "..           ...           ...                  ...  ...               ...   \n",
      "59            32            26                    1  ...               111   \n",
      "60            32            69                   26  ...               159   \n",
      "61           738          1384                  537  ...              3526   \n",
      "62           229           703                  423  ...              1512   \n",
      "63            64           128                   26  ...               306   \n",
      "\n",
      "    EmployedIn3rdQtr  EmployedIn4thQtr  EmployedInAllQtrs  NewHires  \\\n",
      "0             104820            100040              84803     48658   \n",
      "1             127978            121844             101889     60220   \n",
      "2               1931              1801               1492       839   \n",
      "3               6077              5843               4353      3530   \n",
      "4               2150              2080               1704       994   \n",
      "..               ...               ...                ...       ...   \n",
      "59                96                84                 57        57   \n",
      "60               159               140                107        91   \n",
      "61              3665              3559               2661      2031   \n",
      "62              1550              1502               1224       629   \n",
      "63               299               283                196       177   \n",
      "\n",
      "    LocalLaborMarketInfoURL  TotalWages  UnemploymentInsuranceClaimants  \\\n",
      "0                       NaN  3721084534                           13758   \n",
      "1                       NaN  4474998250                           18658   \n",
      "2                       NaN    82784708                             328   \n",
      "3                       NaN   132767291                            1420   \n",
      "4                       NaN    74044239                             233   \n",
      "..                      ...         ...                             ...   \n",
      "59                      NaN     1627766                              16   \n",
      "60                      NaN     4707457                              40   \n",
      "61                      NaN   101699020                            1051   \n",
      "62                      NaN    60955693                             235   \n",
      "63                      NaN     7238112                             108   \n",
      "\n",
      "             x          y  \n",
      "0  -149.894847  61.216278  \n",
      "1          NaN        NaN  \n",
      "2  -156.761010  71.289398  \n",
      "3  -160.153400  60.928900  \n",
      "4  -161.771771  60.791199  \n",
      "..         ...        ...  \n",
      "59 -152.503700  57.738100  \n",
      "60 -155.588353  62.950141  \n",
      "61 -164.256602  64.832997  \n",
      "62 -165.408560  64.498090  \n",
      "63 -139.750032  59.558761  \n",
      "\n",
      "[64 rows x 29 columns]\n"
     ]
    }
   ],
   "source": [
    "print(AlaskaEconomy)"
   ]
  },
  {
   "cell_type": "markdown",
   "metadata": {},
   "source": [
    "## <span style=\"color:#FA8072;\">Cleaned up section of graphs and datasets</span>"
   ]
  },
  {
   "cell_type": "markdown",
   "metadata": {},
   "source": [
    "Alaska Economic Datasets"
   ]
  },
  {
   "cell_type": "code",
   "execution_count": 7,
   "metadata": {},
   "outputs": [],
   "source": [
    "# get dataset\n",
    "import pandas as pd\n",
    "Alaska_Unemployment = pd.read_csv('https://github.com/eadamsRU/Masters_Project/raw/refs/heads/main/Alaska%20Economic%20Data%20-%202000-2004%20-%20Unemployment%20rate%20in%20Alaska.csv')\n",
    "Alaska_RealGDP = pd.read_csv('https://github.com/eadamsRU/Masters_Project/raw/refs/heads/main/Alaska%20Economic%20Data%20-%202000-2004%20-%20Real%20GDP%20of%20Alaska.csv')\n",
    "Alaska_Poverty = pd.read_csv('https://github.com/eadamsRU/Masters_Project/raw/refs/heads/main/Alaska%20Economic%20Data%20-%202000-2004%20-%20Poverty%20rate%20in%20Alaska.csv')\n",
    "Alaska_PerCapitaIncome = pd.read_csv('https://github.com/eadamsRU/Masters_Project/raw/refs/heads/main/Alaska%20Economic%20Data%20-%202000-2004%20-%20Per%20capita%20personal%20income%20in%20Alaska.csv')\n",
    "Alaska_MedianHouseholdIncome = pd.read_csv('https://github.com/eadamsRU/Masters_Project/raw/refs/heads/main/Alaska%20Economic%20Data%20-%202000-2004%20-%20Median%20household%20income%20in%20Alaska.csv')\n",
    "Alaska_AnnualPercentageChangeGDP = pd.read_csv('https://github.com/eadamsRU/Masters_Project/raw/refs/heads/main/Alaska%20Economic%20Data%20-%202000-2004%20-%20Annual%20Percentage%20change%20real%20GDP%20of%20Alaska.csv')\n"
   ]
  },
  {
   "cell_type": "markdown",
   "metadata": {},
   "source": [
    "Alaska Economic Data - Weatherstations"
   ]
  },
  {
   "cell_type": "code",
   "execution_count": 6,
   "metadata": {},
   "outputs": [],
   "source": [
    "# get dataset\n",
    "import pandas as pd\n",
    "\n",
    "Anchorage_Economy = pd.read_csv('https://github.com/eadamsRU/Masters_Project/raw/refs/heads/main/Alaska%20Economy%202001-2004%20Weather%20Stations%20-%20ANCHORAGE%20-%20ECONOMY.csv')\n",
    "Barrow_Economy = pd.read_csv('https://github.com/eadamsRU/Masters_Project/raw/refs/heads/main/Alaska%20Economy%202001-2004%20Weather%20Stations%20-%20BARROW%20-%20ECONOMY.csv')\n",
    "Bethel_Economy = pd.read_csv('https://github.com/eadamsRU/Masters_Project/raw/refs/heads/main/Alaska%20Economy%202001-2004%20Weather%20Stations%20-%20BETHEL%20-%20ECONOMY.csv')\n",
    "Fairbanks_Economy = pd.read_csv('https://github.com/eadamsRU/Masters_Project/raw/refs/heads/main/Alaska%20Economy%202001-2004%20Weather%20Stations%20-%20FAIRBANKS%20-%20ECONOMY.csv')\n",
    "Juneau_Economy = pd.read_csv('https://github.com/eadamsRU/Masters_Project/raw/refs/heads/main/Alaska%20Economy%202001-2004%20Weather%20Stations%20-%20JUNEAU%20-%20ECONOMY.csv')\n",
    "King_Salmon_Economy = pd.read_csv('https://github.com/eadamsRU/Masters_Project/raw/refs/heads/main/Alaska%20Economy%202001-2004%20Weather%20Stations%20-%20KING%20SALMON%20-%20ECONOMY.csv')\n",
    "Kodiak_Economy = pd.read_csv('https://github.com/eadamsRU/Masters_Project/raw/refs/heads/main/Alaska%20Economy%202001-2004%20Weather%20Stations%20-%20KODIAK%20-%20ECONOMY.csv')\n",
    "McGrath_Economy = pd.read_csv('https://github.com/eadamsRU/Masters_Project/raw/refs/heads/main/Alaska%20Economy%202001-2004%20Weather%20Stations%20-%20MCGRATH%20-%20ECONOMY.csv')\n",
    "Nome_Economy = pd.read_csv('https://github.com/eadamsRU/Masters_Project/raw/refs/heads/main/Alaska%20Economy%202001-2004%20Weather%20Stations%20-%20NOME%20-%20ECONOMY.csv')\n",
    "Yakutat_Economy = pd.read_csv('https://github.com/eadamsRU/Masters_Project/raw/refs/heads/main/Alaska%20Economy%202001-2004%20Weather%20Stations%20-%20YAKUTAT%20-%20ECONOMY.csv')"
   ]
  },
  {
   "cell_type": "markdown",
   "metadata": {},
   "source": [
    "## <span style=\"color:#FA8072;\">2025-03-27 - Clean up merging and get some Location Dependent Analysis </span>"
   ]
  },
  {
   "cell_type": "markdown",
   "metadata": {},
   "source": [
    "* I want to first check that this all merges with the following: Salmon biodata, Climate data, Alaska Economy\n",
    "\n",
    "    * I plan to attempt this with merging CLIMATE and ECONOMY on a common key of the year(if I can ideally exact date or mm-yyyy)\n",
    "\n",
    "    * With that merged I can then create a map of the location of the salmon data and create a 'range' that I can then use to attribute the LAT/LONG of fishing location against the various Weather Stations.\n",
    "\n",
    "        * Ex: {[70,80],[70.8,79.9],[71.4,80],[71,81.6],[70.6,81],[70,82]} : {Anchorage}\n",
    "\n",
    "            * This is not the same exact syntax, but it would be identical to how python works with dictionaries"
   ]
  },
  {
   "cell_type": "markdown",
   "metadata": {},
   "source": [
    "Using the AlaskaEconomy Df I will merge on an Anchorage CLIMATE DF on year"
   ]
  },
  {
   "cell_type": "code",
   "execution_count": 6,
   "metadata": {},
   "outputs": [],
   "source": [
    "AlaskaEconomy_copy = AlaskaEconomy"
   ]
  },
  {
   "cell_type": "code",
   "execution_count": 36,
   "metadata": {},
   "outputs": [],
   "source": [
    "AlaskaEconomy_copy_Anchorage = AlaskaEconomy_copy[AlaskaEconomy_copy['CommunityName'] == 'Anchorage']"
   ]
  },
  {
   "cell_type": "code",
   "execution_count": 40,
   "metadata": {},
   "outputs": [
    {
     "name": "stdout",
     "output_type": "stream",
     "text": [
      "    OBJECTID CommunityName  DataYear  ResidentsAge16AndOver  \\\n",
      "0        594     Anchorage      2001                 181613   \n",
      "16       595     Anchorage      2002                 184129   \n",
      "32       596     Anchorage      2003                 187255   \n",
      "48       597     Anchorage      2004                 188722   \n",
      "\n",
      "    ResidentsEmployed  WagesLessThan5k  Wages5k_10k  Wages10k_20k  \\\n",
      "0              118312            19086        11037         18498   \n",
      "16             119746            18572        10963         18303   \n",
      "32             121006            18418        10963         17925   \n",
      "48             121958            17804        10985         17734   \n",
      "\n",
      "    Wages20k_50k  WagesGreaterThan50k  ...  EmployedIn2ndQtr  \\\n",
      "0          47595                22103  ...            105374   \n",
      "16         48483                23434  ...            107416   \n",
      "32         48899                24809  ...            108202   \n",
      "48         48997                26441  ...            109316   \n",
      "\n",
      "    EmployedIn3rdQtr  EmployedIn4thQtr  EmployedInAllQtrs  NewHires  \\\n",
      "0             104820            100040              84803     48658   \n",
      "16            106464            101428              86896     43588   \n",
      "32            107404            102618              87896     42566   \n",
      "48            108596            104122              88639     43446   \n",
      "\n",
      "    LocalLaborMarketInfoURL  TotalWages  UnemploymentInsuranceClaimants  \\\n",
      "0                       NaN  3721084534                           13758   \n",
      "16                      NaN  3860409202                           15513   \n",
      "32                      NaN  3985450550                           16422   \n",
      "48                      NaN  4151574482                           15376   \n",
      "\n",
      "             x          y  \n",
      "0  -149.894847  61.216278  \n",
      "16 -149.894847  61.216278  \n",
      "32 -149.894847  61.216278  \n",
      "48 -149.894847  61.216278  \n",
      "\n",
      "[4 rows x 29 columns]\n"
     ]
    }
   ],
   "source": [
    "print(AlaskaEconomy_copy_Anchorage)"
   ]
  },
  {
   "cell_type": "markdown",
   "metadata": {},
   "source": [
    "#### <span style=\"color:#FA8072;\">Need to make cols common name to join </span>"
   ]
  },
  {
   "cell_type": "code",
   "execution_count": null,
   "metadata": {},
   "outputs": [],
   "source": [
    "AlaskaEconomy_copy_Anchorage['WEATHER STATION NAME'] = AlaskaEconomy_copy_Anchorage['CommunityName']\n",
    "AlaskaEconomy_copy_Anchorage['YEAR'] = AlaskaEconomy_copy_Anchorage['DataYear']"
   ]
  },
  {
   "cell_type": "code",
   "execution_count": null,
   "metadata": {},
   "outputs": [],
   "source": [
    "AlaskaEconomy_copy_Anchorage.dtypes"
   ]
  },
  {
   "cell_type": "code",
   "execution_count": null,
   "metadata": {},
   "outputs": [],
   "source": [
    "print(AlaskaEconomy_copy_Anchorage)"
   ]
  },
  {
   "cell_type": "markdown",
   "metadata": {},
   "source": [
    "#### <span style=\"color:#FA8072;\">Alaska 2001 econ dataframe filtered</span>"
   ]
  },
  {
   "cell_type": "code",
   "execution_count": 41,
   "metadata": {},
   "outputs": [],
   "source": [
    "AlaskaEconomy_copy_Anchorage_2001 = AlaskaEconomy_copy_Anchorage[AlaskaEconomy_copy_Anchorage['DataYear'] == 2001]"
   ]
  },
  {
   "cell_type": "code",
   "execution_count": 43,
   "metadata": {},
   "outputs": [
    {
     "name": "stdout",
     "output_type": "stream",
     "text": [
      "   OBJECTID CommunityName  DataYear  ResidentsAge16AndOver  ResidentsEmployed  \\\n",
      "0       594     Anchorage      2001                 181613             118312   \n",
      "\n",
      "   WagesLessThan5k  Wages5k_10k  Wages10k_20k  Wages20k_50k  \\\n",
      "0            19086        11037         18498         47595   \n",
      "\n",
      "   WagesGreaterThan50k  ...  EmployedIn2ndQtr  EmployedIn3rdQtr  \\\n",
      "0                22103  ...            105374            104820   \n",
      "\n",
      "   EmployedIn4thQtr  EmployedInAllQtrs  NewHires  LocalLaborMarketInfoURL  \\\n",
      "0            100040              84803     48658                      NaN   \n",
      "\n",
      "   TotalWages  UnemploymentInsuranceClaimants           x          y  \n",
      "0  3721084534                           13758 -149.894847  61.216278  \n",
      "\n",
      "[1 rows x 29 columns]\n"
     ]
    }
   ],
   "source": [
    "print(AlaskaEconomy_copy_Anchorage_2001)"
   ]
  },
  {
   "cell_type": "code",
   "execution_count": 45,
   "metadata": {},
   "outputs": [
    {
     "name": "stderr",
     "output_type": "stream",
     "text": [
      "C:\\Users\\mecto\\AppData\\Local\\Temp\\ipykernel_8448\\1980747526.py:1: SettingWithCopyWarning: \n",
      "A value is trying to be set on a copy of a slice from a DataFrame.\n",
      "Try using .loc[row_indexer,col_indexer] = value instead\n",
      "\n",
      "See the caveats in the documentation: https://pandas.pydata.org/pandas-docs/stable/user_guide/indexing.html#returning-a-view-versus-a-copy\n",
      "  AlaskaEconomy_copy_Anchorage_2001['WEATHER STATION NAME'] = AlaskaEconomy_copy_Anchorage_2001['CommunityName']\n",
      "C:\\Users\\mecto\\AppData\\Local\\Temp\\ipykernel_8448\\1980747526.py:2: SettingWithCopyWarning: \n",
      "A value is trying to be set on a copy of a slice from a DataFrame.\n",
      "Try using .loc[row_indexer,col_indexer] = value instead\n",
      "\n",
      "See the caveats in the documentation: https://pandas.pydata.org/pandas-docs/stable/user_guide/indexing.html#returning-a-view-versus-a-copy\n",
      "  AlaskaEconomy_copy_Anchorage_2001['YEAR'] = AlaskaEconomy_copy_Anchorage_2001['DataYear']\n"
     ]
    }
   ],
   "source": [
    "AlaskaEconomy_copy_Anchorage_2001['WEATHER STATION NAME'] = AlaskaEconomy_copy_Anchorage_2001['CommunityName']\n",
    "AlaskaEconomy_copy_Anchorage_2001['YEAR'] = AlaskaEconomy_copy_Anchorage_2001['DataYear']"
   ]
  },
  {
   "cell_type": "markdown",
   "metadata": {},
   "source": [
    "#### <span style=\"color:#FA8072;\">Alaska 2002 econ dataframe filtered</span>"
   ]
  },
  {
   "cell_type": "code",
   "execution_count": 57,
   "metadata": {},
   "outputs": [],
   "source": [
    "AlaskaEconomy_copy_Anchorage_2002 = AlaskaEconomy_copy_Anchorage[AlaskaEconomy_copy_Anchorage['DataYear'] == 2002]"
   ]
  },
  {
   "cell_type": "code",
   "execution_count": 58,
   "metadata": {},
   "outputs": [
    {
     "name": "stderr",
     "output_type": "stream",
     "text": [
      "C:\\Users\\mecto\\AppData\\Local\\Temp\\ipykernel_8448\\3167708821.py:1: SettingWithCopyWarning: \n",
      "A value is trying to be set on a copy of a slice from a DataFrame.\n",
      "Try using .loc[row_indexer,col_indexer] = value instead\n",
      "\n",
      "See the caveats in the documentation: https://pandas.pydata.org/pandas-docs/stable/user_guide/indexing.html#returning-a-view-versus-a-copy\n",
      "  AlaskaEconomy_copy_Anchorage_2002['WEATHER STATION NAME'] = AlaskaEconomy_copy_Anchorage_2002['CommunityName']\n",
      "C:\\Users\\mecto\\AppData\\Local\\Temp\\ipykernel_8448\\3167708821.py:2: SettingWithCopyWarning: \n",
      "A value is trying to be set on a copy of a slice from a DataFrame.\n",
      "Try using .loc[row_indexer,col_indexer] = value instead\n",
      "\n",
      "See the caveats in the documentation: https://pandas.pydata.org/pandas-docs/stable/user_guide/indexing.html#returning-a-view-versus-a-copy\n",
      "  AlaskaEconomy_copy_Anchorage_2002['YEAR'] = AlaskaEconomy_copy_Anchorage_2002['DataYear']\n"
     ]
    }
   ],
   "source": [
    "AlaskaEconomy_copy_Anchorage_2002['WEATHER STATION NAME'] = AlaskaEconomy_copy_Anchorage_2002['CommunityName']\n",
    "AlaskaEconomy_copy_Anchorage_2002['YEAR'] = AlaskaEconomy_copy_Anchorage_2002['DataYear']"
   ]
  },
  {
   "cell_type": "markdown",
   "metadata": {},
   "source": [
    "#### <span style=\"color:#FA8072;\">Alaska 2003 econ dataframe filtered</span>"
   ]
  },
  {
   "cell_type": "code",
   "execution_count": 59,
   "metadata": {},
   "outputs": [],
   "source": [
    "AlaskaEconomy_copy_Anchorage_2003 = AlaskaEconomy_copy_Anchorage[AlaskaEconomy_copy_Anchorage['DataYear'] == 2003]"
   ]
  },
  {
   "cell_type": "code",
   "execution_count": 60,
   "metadata": {},
   "outputs": [
    {
     "name": "stderr",
     "output_type": "stream",
     "text": [
      "C:\\Users\\mecto\\AppData\\Local\\Temp\\ipykernel_8448\\2209338236.py:1: SettingWithCopyWarning: \n",
      "A value is trying to be set on a copy of a slice from a DataFrame.\n",
      "Try using .loc[row_indexer,col_indexer] = value instead\n",
      "\n",
      "See the caveats in the documentation: https://pandas.pydata.org/pandas-docs/stable/user_guide/indexing.html#returning-a-view-versus-a-copy\n",
      "  AlaskaEconomy_copy_Anchorage_2003['WEATHER STATION NAME'] = AlaskaEconomy_copy_Anchorage_2003['CommunityName']\n",
      "C:\\Users\\mecto\\AppData\\Local\\Temp\\ipykernel_8448\\2209338236.py:2: SettingWithCopyWarning: \n",
      "A value is trying to be set on a copy of a slice from a DataFrame.\n",
      "Try using .loc[row_indexer,col_indexer] = value instead\n",
      "\n",
      "See the caveats in the documentation: https://pandas.pydata.org/pandas-docs/stable/user_guide/indexing.html#returning-a-view-versus-a-copy\n",
      "  AlaskaEconomy_copy_Anchorage_2003['YEAR'] = AlaskaEconomy_copy_Anchorage_2003['DataYear']\n"
     ]
    }
   ],
   "source": [
    "AlaskaEconomy_copy_Anchorage_2003['WEATHER STATION NAME'] = AlaskaEconomy_copy_Anchorage_2003['CommunityName']\n",
    "AlaskaEconomy_copy_Anchorage_2003['YEAR'] = AlaskaEconomy_copy_Anchorage_2003['DataYear']"
   ]
  },
  {
   "cell_type": "markdown",
   "metadata": {},
   "source": [
    "#### <span style=\"color:#FA8072;\">Alaska 2004 econ dataframe filtered</span>"
   ]
  },
  {
   "cell_type": "code",
   "execution_count": 61,
   "metadata": {},
   "outputs": [],
   "source": [
    "AlaskaEconomy_copy_Anchorage_2004 = AlaskaEconomy_copy_Anchorage[AlaskaEconomy_copy_Anchorage['DataYear'] == 2004]"
   ]
  },
  {
   "cell_type": "code",
   "execution_count": null,
   "metadata": {},
   "outputs": [],
   "source": [
    "AlaskaEconomy_copy_Anchorage_2004['WEATHER STATION NAME'] = AlaskaEconomy_copy_Anchorage_2004['CommunityName']\n",
    "AlaskaEconomy_copy_Anchorage_2004['YEAR'] = AlaskaEconomy_copy_Anchorage_2004['DataYear']"
   ]
  },
  {
   "cell_type": "markdown",
   "metadata": {},
   "source": [
    "### I have all of the climate datasets, however they have all of the days for each year, I can do averages for each month and just include a year column.\n",
    "\n",
    "I WILL FOCUS ON THE MOTNH RANGE OF 07-09 FOR EACH YEAR"
   ]
  },
  {
   "cell_type": "code",
   "execution_count": 16,
   "metadata": {},
   "outputs": [],
   "source": [
    "import pandas as pd\n",
    "\n",
    "Weather_Anchorage_2001_07_09 = pd.read_csv('https://github.com/eadamsRU/Masters_Project/raw/refs/heads/main/Weather%20-%20Anchorage%20International%20Airport%20-%202001%20-%20filtered%20with%20dates%2007-09.csv')\n"
   ]
  },
  {
   "cell_type": "code",
   "execution_count": 18,
   "metadata": {},
   "outputs": [],
   "source": [
    "Weather_Anchorage_2002_07_09 = pd.read_csv('https://github.com/eadamsRU/Masters_Project/raw/refs/heads/main/Weather%20-%20Anchorage%20International%20Airport%20-%202002%20-%20filtered%20with%20dates%2007-09.csv')"
   ]
  },
  {
   "cell_type": "code",
   "execution_count": 19,
   "metadata": {},
   "outputs": [],
   "source": [
    "Weather_Anchorage_2003_07_09 = pd.read_csv('https://github.com/eadamsRU/Masters_Project/raw/refs/heads/main/Weather%20-%20Anchorage%20International%20Airport%20-%202003%20-%20filtered%20with%20dates%2007-09.csv')"
   ]
  },
  {
   "cell_type": "code",
   "execution_count": 20,
   "metadata": {},
   "outputs": [],
   "source": [
    "Weather_Anchorage_2004_07_09 = pd.read_csv('https://github.com/eadamsRU/Masters_Project/raw/refs/heads/main/Weather%20-%20Anchorage%20International%20Airport%20-%202004%20-%20filtered%20with%20dates%2007-09.csv')\n"
   ]
  },
  {
   "cell_type": "code",
   "execution_count": null,
   "metadata": {},
   "outputs": [],
   "source": [
    "Weather_Anchorage_2001_07_09.head(5)\n",
    "Weather_Anchorage_2002_07_09.head(5)\n",
    "Weather_Anchorage_2003_07_09.head(5)\n",
    "Weather_Anchorage_2004_07_09.head(5)"
   ]
  },
  {
   "cell_type": "markdown",
   "metadata": {},
   "source": [
    "#### MERGE \n",
    "DONE - NEED TO RENAME ALL THESE YEAR ONES TO SOMETHING _ANCHORAGE"
   ]
  },
  {
   "cell_type": "markdown",
   "metadata": {},
   "source": [
    "##### 2001"
   ]
  },
  {
   "cell_type": "code",
   "execution_count": 107,
   "metadata": {},
   "outputs": [],
   "source": [
    "# Weather_Anchorage_2001_07_09\n",
    "# AlaskaEconomy_copy_Anchorage_2001\n",
    "Alaska_weather_econ_MERGE_ANCHORAGE_2001 = pd.merge(Weather_Anchorage_2001_07_09, AlaskaEconomy_copy_Anchorage_2001, on ='YEAR', how = 'inner')\n"
   ]
  },
  {
   "cell_type": "code",
   "execution_count": 108,
   "metadata": {},
   "outputs": [
    {
     "name": "stdout",
     "output_type": "stream",
     "text": [
      "     WEATHER STATION NAME_x      STATION  YEAR                 DATE  LATITUDE  \\\n",
      "0                 ANCHORAGE  USW00026451  2001   2001-07-01 0:00:00    61.169   \n",
      "1                 ANCHORAGE  USW00026451  2001   2001-07-01 0:00:00    61.169   \n",
      "2                 ANCHORAGE  USW00026451  2001   2001-07-01 0:53:00    61.169   \n",
      "3                 ANCHORAGE  USW00026451  2001   2001-07-01 1:53:00    61.169   \n",
      "4                 ANCHORAGE  USW00026451  2001   2001-07-01 2:53:00    61.169   \n",
      "...                     ...          ...   ...                  ...       ...   \n",
      "2793              ANCHORAGE  USW00026451  2001  2001-09-30 20:53:00    61.169   \n",
      "2794              ANCHORAGE  USW00026451  2001  2001-09-30 21:00:00    61.169   \n",
      "2795              ANCHORAGE  USW00026451  2001  2001-09-30 21:53:00    61.169   \n",
      "2796              ANCHORAGE  USW00026451  2001  2001-09-30 22:53:00    61.169   \n",
      "2797              ANCHORAGE  USW00026451  2001  2001-09-30 23:53:00    61.169   \n",
      "\n",
      "      LONGITUDE  ELEVATION                                               NAME  \\\n",
      "0     -150.0278       36.6  ANCHORAGE TED STEVENS INTERNATIONAL AIRPORT, A...   \n",
      "1     -150.0278       36.6  ANCHORAGE TED STEVENS INTERNATIONAL AIRPORT, A...   \n",
      "2     -150.0278       36.6  ANCHORAGE TED STEVENS INTERNATIONAL AIRPORT, A...   \n",
      "3     -150.0278       36.6  ANCHORAGE TED STEVENS INTERNATIONAL AIRPORT, A...   \n",
      "4     -150.0278       36.6  ANCHORAGE TED STEVENS INTERNATIONAL AIRPORT, A...   \n",
      "...         ...        ...                                                ...   \n",
      "2793  -150.0278       36.6  ANCHORAGE TED STEVENS INTERNATIONAL AIRPORT, A...   \n",
      "2794  -150.0278       36.6  ANCHORAGE TED STEVENS INTERNATIONAL AIRPORT, A...   \n",
      "2795  -150.0278       36.6  ANCHORAGE TED STEVENS INTERNATIONAL AIRPORT, A...   \n",
      "2796  -150.0278       36.6  ANCHORAGE TED STEVENS INTERNATIONAL AIRPORT, A...   \n",
      "2797  -150.0278       36.6  ANCHORAGE TED STEVENS INTERNATIONAL AIRPORT, A...   \n",
      "\n",
      "     REPORT_TYPE  SOURCE  ...  EmployedIn3rdQtr  EmployedIn4thQtr  \\\n",
      "0            SOD     NaN  ...            104820            100040   \n",
      "1            SOM     NaN  ...            104820            100040   \n",
      "2          FM-15   335.0  ...            104820            100040   \n",
      "3          FM-15   335.0  ...            104820            100040   \n",
      "4          FM-15   335.0  ...            104820            100040   \n",
      "...          ...     ...  ...               ...               ...   \n",
      "2793       FM-15   335.0  ...            104820            100040   \n",
      "2794       SY-MT   335.0  ...            104820            100040   \n",
      "2795       FM-15   335.0  ...            104820            100040   \n",
      "2796       FM-15   335.0  ...            104820            100040   \n",
      "2797       FM-15   335.0  ...            104820            100040   \n",
      "\n",
      "      EmployedInAllQtrs NewHires LocalLaborMarketInfoURL  TotalWages  \\\n",
      "0                 84803    48658                     NaN  3721084534   \n",
      "1                 84803    48658                     NaN  3721084534   \n",
      "2                 84803    48658                     NaN  3721084534   \n",
      "3                 84803    48658                     NaN  3721084534   \n",
      "4                 84803    48658                     NaN  3721084534   \n",
      "...                 ...      ...                     ...         ...   \n",
      "2793              84803    48658                     NaN  3721084534   \n",
      "2794              84803    48658                     NaN  3721084534   \n",
      "2795              84803    48658                     NaN  3721084534   \n",
      "2796              84803    48658                     NaN  3721084534   \n",
      "2797              84803    48658                     NaN  3721084534   \n",
      "\n",
      "      UnemploymentInsuranceClaimants           x          y  \\\n",
      "0                              13758 -149.894847  61.216278   \n",
      "1                              13758 -149.894847  61.216278   \n",
      "2                              13758 -149.894847  61.216278   \n",
      "3                              13758 -149.894847  61.216278   \n",
      "4                              13758 -149.894847  61.216278   \n",
      "...                              ...         ...        ...   \n",
      "2793                           13758 -149.894847  61.216278   \n",
      "2794                           13758 -149.894847  61.216278   \n",
      "2795                           13758 -149.894847  61.216278   \n",
      "2796                           13758 -149.894847  61.216278   \n",
      "2797                           13758 -149.894847  61.216278   \n",
      "\n",
      "      WEATHER STATION NAME_y  \n",
      "0                  Anchorage  \n",
      "1                  Anchorage  \n",
      "2                  Anchorage  \n",
      "3                  Anchorage  \n",
      "4                  Anchorage  \n",
      "...                      ...  \n",
      "2793               Anchorage  \n",
      "2794               Anchorage  \n",
      "2795               Anchorage  \n",
      "2796               Anchorage  \n",
      "2797               Anchorage  \n",
      "\n",
      "[2798 rows x 157 columns]\n"
     ]
    }
   ],
   "source": [
    "print(Alaska_weather_econ_MERGE_ANCHORAGE_2001)"
   ]
  },
  {
   "cell_type": "code",
   "execution_count": null,
   "metadata": {},
   "outputs": [],
   "source": [
    "Alaska_weather_econ_MERGE_ANCHORAGE_2001.head(5)"
   ]
  },
  {
   "cell_type": "markdown",
   "metadata": {},
   "source": [
    "##### 2002"
   ]
  },
  {
   "cell_type": "code",
   "execution_count": 110,
   "metadata": {},
   "outputs": [],
   "source": [
    "Alaska_weather_econ_MERGE_ANCHORAGE_2002 = pd.merge(Weather_Anchorage_2002_07_09, AlaskaEconomy_copy_Anchorage_2002, on ='YEAR', how = 'inner')"
   ]
  },
  {
   "cell_type": "markdown",
   "metadata": {},
   "source": [
    "##### 2003"
   ]
  },
  {
   "cell_type": "code",
   "execution_count": 111,
   "metadata": {},
   "outputs": [],
   "source": [
    "Alaska_weather_econ_MERGE_ANCHORAGE_2003 = pd.merge(Weather_Anchorage_2003_07_09, AlaskaEconomy_copy_Anchorage_2003, on ='YEAR', how = 'inner')"
   ]
  },
  {
   "cell_type": "markdown",
   "metadata": {},
   "source": [
    "##### 2004"
   ]
  },
  {
   "cell_type": "code",
   "execution_count": 112,
   "metadata": {},
   "outputs": [],
   "source": [
    "Alaska_weather_econ_MERGE_ANCHORAGE_2004 = pd.merge(Weather_Anchorage_2004_07_09, AlaskaEconomy_copy_Anchorage_2004, on ='YEAR', how = 'inner')"
   ]
  },
  {
   "cell_type": "markdown",
   "metadata": {},
   "source": [
    "#### <span style=\"color:#ffd900;\">Find some averages and counts of some variables, we can save these as variables and use within our reaserch to see comparisons year-to-year, by weather stations, etc</span>"
   ]
  },
  {
   "cell_type": "markdown",
   "metadata": {},
   "source": [
    "ANCHORAGE WEATHER STATION"
   ]
  },
  {
   "cell_type": "markdown",
   "metadata": {},
   "source": [
    "##### 2001"
   ]
  },
  {
   "cell_type": "markdown",
   "metadata": {},
   "source": [
    "###### DryBulb Temp"
   ]
  },
  {
   "cell_type": "code",
   "execution_count": 113,
   "metadata": {},
   "outputs": [],
   "source": [
    "AVG_DRYBULB_TEMP_Alaska_weather_econ_MERGE_2001 = Alaska_weather_econ_MERGE_ANCHORAGE_2001['DailyAverageDryBulbTemperature'].mean()"
   ]
  },
  {
   "cell_type": "code",
   "execution_count": 114,
   "metadata": {},
   "outputs": [
    {
     "data": {
      "text/plain": [
       "12.876086956521737"
      ]
     },
     "execution_count": 114,
     "metadata": {},
     "output_type": "execute_result"
    }
   ],
   "source": [
    "AVG_DRYBULB_TEMP_Alaska_weather_econ_MERGE_2001"
   ]
  },
  {
   "cell_type": "markdown",
   "metadata": {},
   "source": [
    "###### DailyDepartureFromNormalAverageTemperature "
   ]
  },
  {
   "cell_type": "code",
   "execution_count": 115,
   "metadata": {},
   "outputs": [],
   "source": [
    "AVG_DailyDepartureFromNormalAverageTemperature_Alaska_weather_econ_MERGE_2001 = Alaska_weather_econ_MERGE_ANCHORAGE_2001['DailyDepartureFromNormalAverageTemperature'].mean()"
   ]
  },
  {
   "cell_type": "code",
   "execution_count": 116,
   "metadata": {},
   "outputs": [
    {
     "data": {
      "text/plain": [
       "-0.1818478260869565"
      ]
     },
     "execution_count": 116,
     "metadata": {},
     "output_type": "execute_result"
    }
   ],
   "source": [
    "AVG_DailyDepartureFromNormalAverageTemperature_Alaska_weather_econ_MERGE_2001"
   ]
  },
  {
   "cell_type": "markdown",
   "metadata": {},
   "source": [
    "###### DailyAverageWindSpeed"
   ]
  },
  {
   "cell_type": "code",
   "execution_count": 117,
   "metadata": {},
   "outputs": [],
   "source": [
    "AVG_DailyAverageWindSpeed_Alaska_weather_econ_MERGE_2001 = Alaska_weather_econ_MERGE_ANCHORAGE_2001['DailyAverageWindSpeed'].mean()"
   ]
  },
  {
   "cell_type": "code",
   "execution_count": 118,
   "metadata": {},
   "outputs": [
    {
     "data": {
      "text/plain": [
       "2.8065217391304347"
      ]
     },
     "execution_count": 118,
     "metadata": {},
     "output_type": "execute_result"
    }
   ],
   "source": [
    "AVG_DailyAverageWindSpeed_Alaska_weather_econ_MERGE_2001"
   ]
  },
  {
   "cell_type": "markdown",
   "metadata": {},
   "source": [
    "###### HourlySeaLevelPressure"
   ]
  },
  {
   "cell_type": "code",
   "execution_count": 119,
   "metadata": {},
   "outputs": [],
   "source": [
    "AVG_HourlySeaLevelPressure_Alaska_weather_econ_MERGE_2001 = Alaska_weather_econ_MERGE_ANCHORAGE_2001['HourlySeaLevelPressure'].mean()"
   ]
  },
  {
   "cell_type": "code",
   "execution_count": 120,
   "metadata": {},
   "outputs": [
    {
     "data": {
      "text/plain": [
       "1008.9310083698687"
      ]
     },
     "execution_count": 120,
     "metadata": {},
     "output_type": "execute_result"
    }
   ],
   "source": [
    "AVG_HourlySeaLevelPressure_Alaska_weather_econ_MERGE_2001"
   ]
  },
  {
   "cell_type": "markdown",
   "metadata": {},
   "source": [
    "##### 2002"
   ]
  },
  {
   "cell_type": "markdown",
   "metadata": {},
   "source": [
    "###### DryBulb Temp"
   ]
  },
  {
   "cell_type": "code",
   "execution_count": 121,
   "metadata": {},
   "outputs": [],
   "source": [
    "AVG_DRYBULB_TEMP_Alaska_weather_econ_MERGE_2002 = Alaska_weather_econ_MERGE_ANCHORAGE_2002['DailyAverageDryBulbTemperature'].mean()"
   ]
  },
  {
   "cell_type": "code",
   "execution_count": 122,
   "metadata": {},
   "outputs": [
    {
     "data": {
      "text/plain": [
       "13.157608695652174"
      ]
     },
     "execution_count": 122,
     "metadata": {},
     "output_type": "execute_result"
    }
   ],
   "source": [
    "AVG_DRYBULB_TEMP_Alaska_weather_econ_MERGE_2002"
   ]
  },
  {
   "cell_type": "markdown",
   "metadata": {},
   "source": [
    "###### DailyAverageDryBulbTemperature"
   ]
  },
  {
   "cell_type": "code",
   "execution_count": 123,
   "metadata": {},
   "outputs": [],
   "source": [
    "AVG_DailyDepartureFromNormalAverageTemperature_Alaska_weather_econ_MERGE_2002 = Alaska_weather_econ_MERGE_ANCHORAGE_2002['DailyDepartureFromNormalAverageTemperature'].mean()"
   ]
  },
  {
   "cell_type": "code",
   "execution_count": 124,
   "metadata": {},
   "outputs": [
    {
     "data": {
      "text/plain": [
       "0.09967391304347828"
      ]
     },
     "execution_count": 124,
     "metadata": {},
     "output_type": "execute_result"
    }
   ],
   "source": [
    "AVG_DailyDepartureFromNormalAverageTemperature_Alaska_weather_econ_MERGE_2002"
   ]
  },
  {
   "cell_type": "markdown",
   "metadata": {},
   "source": [
    "###### DailyAverageWindSpeed"
   ]
  },
  {
   "cell_type": "code",
   "execution_count": 125,
   "metadata": {},
   "outputs": [],
   "source": [
    "AVG_DailyAverageWindSpeed_Alaska_weather_econ_MERGE_2002 = Alaska_weather_econ_MERGE_ANCHORAGE_2002['DailyAverageWindSpeed'].mean()"
   ]
  },
  {
   "cell_type": "code",
   "execution_count": 126,
   "metadata": {},
   "outputs": [
    {
     "data": {
      "text/plain": [
       "3.1467391304347827"
      ]
     },
     "execution_count": 126,
     "metadata": {},
     "output_type": "execute_result"
    }
   ],
   "source": [
    "AVG_DailyAverageWindSpeed_Alaska_weather_econ_MERGE_2002"
   ]
  },
  {
   "cell_type": "markdown",
   "metadata": {},
   "source": [
    "###### HourlySeaLevelPressure"
   ]
  },
  {
   "cell_type": "code",
   "execution_count": 127,
   "metadata": {},
   "outputs": [],
   "source": [
    "AVG_HourlySeaLevelPressure_Alaska_weather_econ_MERGE_2002 = Alaska_weather_econ_MERGE_ANCHORAGE_2002['HourlySeaLevelPressure'].mean()"
   ]
  },
  {
   "cell_type": "code",
   "execution_count": 128,
   "metadata": {},
   "outputs": [
    {
     "data": {
      "text/plain": [
       "1011.6605324074075"
      ]
     },
     "execution_count": 128,
     "metadata": {},
     "output_type": "execute_result"
    }
   ],
   "source": [
    "AVG_HourlySeaLevelPressure_Alaska_weather_econ_MERGE_2002"
   ]
  },
  {
   "cell_type": "markdown",
   "metadata": {},
   "source": [
    "##### 2003"
   ]
  },
  {
   "cell_type": "markdown",
   "metadata": {},
   "source": [
    "###### DryBulb Temp"
   ]
  },
  {
   "cell_type": "code",
   "execution_count": 129,
   "metadata": {},
   "outputs": [],
   "source": [
    "AVG_DRYBULB_TEMP_Alaska_weather_econ_MERGE_2003 = Alaska_weather_econ_MERGE_ANCHORAGE_2003['DailyAverageDryBulbTemperature'].mean()"
   ]
  },
  {
   "cell_type": "code",
   "execution_count": 130,
   "metadata": {},
   "outputs": [
    {
     "data": {
      "text/plain": [
       "13.585869565217392"
      ]
     },
     "execution_count": 130,
     "metadata": {},
     "output_type": "execute_result"
    }
   ],
   "source": [
    "AVG_DRYBULB_TEMP_Alaska_weather_econ_MERGE_2003"
   ]
  },
  {
   "cell_type": "markdown",
   "metadata": {},
   "source": [
    "###### DailyAverageDryBulbTemperature"
   ]
  },
  {
   "cell_type": "code",
   "execution_count": 131,
   "metadata": {},
   "outputs": [],
   "source": [
    "AVG_DailyDepartureFromNormalAverageTemperature_Alaska_weather_econ_MERGE_2003 = Alaska_weather_econ_MERGE_ANCHORAGE_2003['DailyDepartureFromNormalAverageTemperature'].mean()"
   ]
  },
  {
   "cell_type": "code",
   "execution_count": 132,
   "metadata": {},
   "outputs": [
    {
     "data": {
      "text/plain": [
       "0.5279347826086955"
      ]
     },
     "execution_count": 132,
     "metadata": {},
     "output_type": "execute_result"
    }
   ],
   "source": [
    "AVG_DailyDepartureFromNormalAverageTemperature_Alaska_weather_econ_MERGE_2003"
   ]
  },
  {
   "cell_type": "markdown",
   "metadata": {},
   "source": [
    "###### DailyAverageWindSpeed"
   ]
  },
  {
   "cell_type": "code",
   "execution_count": 133,
   "metadata": {},
   "outputs": [],
   "source": [
    "AVG_DailyAverageWindSpeed_Alaska_weather_econ_MERGE_2003 = Alaska_weather_econ_MERGE_ANCHORAGE_2003['DailyAverageWindSpeed'].mean()"
   ]
  },
  {
   "cell_type": "code",
   "execution_count": 134,
   "metadata": {},
   "outputs": [
    {
     "data": {
      "text/plain": [
       "3.3739130434782605"
      ]
     },
     "execution_count": 134,
     "metadata": {},
     "output_type": "execute_result"
    }
   ],
   "source": [
    "AVG_DailyAverageWindSpeed_Alaska_weather_econ_MERGE_2003"
   ]
  },
  {
   "cell_type": "markdown",
   "metadata": {},
   "source": [
    "###### HourlySeaLevelPressure"
   ]
  },
  {
   "cell_type": "code",
   "execution_count": 135,
   "metadata": {},
   "outputs": [],
   "source": [
    "AVG_HourlySeaLevelPressure_Alaska_weather_econ_MERGE_2003 = Alaska_weather_econ_MERGE_ANCHORAGE_2003['HourlySeaLevelPressure'].mean()"
   ]
  },
  {
   "cell_type": "code",
   "execution_count": 136,
   "metadata": {},
   "outputs": [
    {
     "data": {
      "text/plain": [
       "1011.0504658963846"
      ]
     },
     "execution_count": 136,
     "metadata": {},
     "output_type": "execute_result"
    }
   ],
   "source": [
    "AVG_HourlySeaLevelPressure_Alaska_weather_econ_MERGE_2003"
   ]
  },
  {
   "cell_type": "markdown",
   "metadata": {},
   "source": [
    "##### 2004"
   ]
  },
  {
   "cell_type": "markdown",
   "metadata": {},
   "source": [
    "###### DryBulb Temp"
   ]
  },
  {
   "cell_type": "code",
   "execution_count": 137,
   "metadata": {},
   "outputs": [],
   "source": [
    "AVG_DRYBULB_TEMP_Alaska_weather_econ_MERGE_2004 = Alaska_weather_econ_MERGE_ANCHORAGE_2004['DailyAverageDryBulbTemperature'].mean()"
   ]
  },
  {
   "cell_type": "code",
   "execution_count": 138,
   "metadata": {},
   "outputs": [
    {
     "data": {
      "text/plain": [
       "13.42282608695652"
      ]
     },
     "execution_count": 138,
     "metadata": {},
     "output_type": "execute_result"
    }
   ],
   "source": [
    "AVG_DRYBULB_TEMP_Alaska_weather_econ_MERGE_2004"
   ]
  },
  {
   "cell_type": "markdown",
   "metadata": {},
   "source": [
    "###### DailyAverageDryBulbTemperature"
   ]
  },
  {
   "cell_type": "code",
   "execution_count": 139,
   "metadata": {},
   "outputs": [],
   "source": [
    "AVG_DailyDepartureFromNormalAverageTemperature_Alaska_weather_econ_MERGE_2004 = Alaska_weather_econ_MERGE_ANCHORAGE_2004['DailyDepartureFromNormalAverageTemperature'].mean()"
   ]
  },
  {
   "cell_type": "code",
   "execution_count": 140,
   "metadata": {},
   "outputs": [
    {
     "data": {
      "text/plain": [
       "0.3648913043478261"
      ]
     },
     "execution_count": 140,
     "metadata": {},
     "output_type": "execute_result"
    }
   ],
   "source": [
    "AVG_DailyDepartureFromNormalAverageTemperature_Alaska_weather_econ_MERGE_2004"
   ]
  },
  {
   "cell_type": "markdown",
   "metadata": {},
   "source": [
    "###### DailyAverageWindSpeed"
   ]
  },
  {
   "cell_type": "code",
   "execution_count": 141,
   "metadata": {},
   "outputs": [],
   "source": [
    "AVG_DailyAverageWindSpeed_Alaska_weather_econ_MERGE_2004 = Alaska_weather_econ_MERGE_ANCHORAGE_2004['DailyAverageWindSpeed'].mean()"
   ]
  },
  {
   "cell_type": "code",
   "execution_count": 142,
   "metadata": {},
   "outputs": [
    {
     "data": {
      "text/plain": [
       "2.7706521739130436"
      ]
     },
     "execution_count": 142,
     "metadata": {},
     "output_type": "execute_result"
    }
   ],
   "source": [
    "AVG_DailyAverageWindSpeed_Alaska_weather_econ_MERGE_2004"
   ]
  },
  {
   "cell_type": "markdown",
   "metadata": {},
   "source": [
    "###### HourlySeaLevelPressure"
   ]
  },
  {
   "cell_type": "code",
   "execution_count": 143,
   "metadata": {},
   "outputs": [],
   "source": [
    "AVG_HourlySeaLevelPressure_Alaska_weather_econ_MERGE_2004 = Alaska_weather_econ_MERGE_ANCHORAGE_2004['HourlySeaLevelPressure'].mean()"
   ]
  },
  {
   "cell_type": "code",
   "execution_count": 144,
   "metadata": {},
   "outputs": [
    {
     "data": {
      "text/plain": [
       "1011.704870506378"
      ]
     },
     "execution_count": 144,
     "metadata": {},
     "output_type": "execute_result"
    }
   ],
   "source": [
    "AVG_HourlySeaLevelPressure_Alaska_weather_econ_MERGE_2004"
   ]
  },
  {
   "cell_type": "markdown",
   "metadata": {},
   "source": [
    "## <span style=\"color:#ffd900\"> Resources/Python</span>"
   ]
  },
  {
   "cell_type": "markdown",
   "metadata": {},
   "source": [
    "Python Libraries You Can Use:\n",
    "\n",
    "* pandas, numpy: data manipulation.\n",
    "* biopython: parsing genomic data (FASTA, GenBank, etc.).\n",
    "* scikit-learn: clustering, PCA, and machine learning.\n",
    "* matplotlib, seaborn, plotly: visualizations like heatmaps, scatter plots, and interactive graphs.\n",
    "* statsmodels, scipy: statistical testing.\n",
    "* pyvcf: handling VCF files (Variant Call Format).\n",
    "* scikit-bio: more advanced bioinformatics analyses.\n",
    "\n",
    "2025-02-26\n",
    "* plotnine\n",
    "\n",
    "R\n",
    "* Ggplot2\n",
    "    *facet wrap\n",
    "\n",
    "How to visualize [salmon populations] across regions like in Presentation 1 blurb:\n",
    "*  You can visualize this using XYZ\n",
    "    * XYZ: definition\n",
    "\n",
    "\n",
    "Random [Farm-Fishing] readings/findings:\n",
    "\n",
    "* Fishing clusters\n",
    "    * Visualize this with heatmaps\n",
    "        * this is proabbaly the greatest visual representation method for this data\n",
    "* Most popular species of salmon fished for commercial use \n",
    "* Most popular brands who sell in grocery stores/distribute to restaurants or businesses"
   ]
  },
  {
   "cell_type": "markdown",
   "metadata": {},
   "source": [
    "## <span style=\"color:#00ff00;\">Sources/Readings/Datasets</span>"
   ]
  },
  {
   "cell_type": "markdown",
   "metadata": {},
   "source": [
    "Fishing\n",
    "* https://www.nationalfisherman.com/alaska/alaska-salmon-2024-markets-still-flooded-as-next-harvest-forecasts-come-in#:~:text=Overall%2C%20values%20for%20all%20species,that%20was%20generated%20in%202022. \n",
    "* https://www.undercurrentnews.com/2025/01/30/global-salmon-supply-down-in-2024-due-to-underperforming-alaska-fisheries-gsmc-attendees-hear/\n",
    "* https://www.ibisworld.com/united-states/economic-profiles/alaska/\n",
    "* https://www.noaa.gov/fisheries\n",
    "\n",
    "Climate\n",
    "* https://sealevel.nasa.gov/\n",
    "* https://climate.nasa.gov/vital-signs/sea-level/?intent=121\n",
    "* https://www.noaa.gov/\n",
    "\n",
    "Economy\n",
    "* https://www.theglobaleconomy.com/download-data.php\n",
    "* https://gis.data.alaska.gov/datasets/DCCED::employment-and-wages-2001-to-2016-all-locations/about\n",
    "    * https://gis.data.alaska.gov/datasets/DCCED::employment-and-wages-2001-to-2016-all-locations/explore?location=0.001964%2C0.000000%2C1.99&showTable=true\n",
    "\n",
    "    * Statista\n",
    "        * https://www.statista.com/statistics/187828/gdp-of-the-us-federal-state-of-alaska-since-1997/\n",
    "        * https://www.statista.com/statistics/205753/median-household-income-in-alaska/\n",
    "        * https://www.statista.com/statistics/205426/poverty-rate-in-alaska/\n",
    "        * https://www.statista.com/statistics/205206/per-capita-personal-income-in-alaska/\n",
    "        * https://www.statista.com/statistics/1036036/alaska-real-gdp-growth/\n",
    "        * https://www.statista.com/statistics/189390/unemployment-rate-in-alaska-since-1992/\n"
   ]
  },
  {
   "cell_type": "markdown",
   "metadata": {},
   "source": [
    "### <span style=\"color:#FFA07A;\">Datasets</span>\n"
   ]
  },
  {
   "cell_type": "markdown",
   "metadata": {},
   "source": [
    "* NOAA\n",
    "    * NOAA Climatological Data\n",
    "        * https://www.ncdc.noaa.gov/cdo-web/datatools/lcd\n",
    "    * NOAA Fisheries\n",
    "* Alaska Department of Fish and Games\n",
    "* NASA & NOAA Climate Data\n",
    "* FAI Fisheries $ Aquaculture Division\n",
    "* https://www.bco-dmo.org/dataset/3106\n",
    "    * https://erddap.bco-dmo.org/erddap/tabledap/bcodmo_dataset_3106.htmlTable"
   ]
  },
  {
   "cell_type": "markdown",
   "metadata": {},
   "source": [
    "## <span style=\"color:#ff0000;\">Definitions/Dictionary [Not in Use]</span>"
   ]
  },
  {
   "cell_type": "markdown",
   "metadata": {},
   "source": [
    "* word: definitions. \n",
    "    \n",
    "    * How [blank] occur:\n",
    "    \n",
    "        A \n",
    "\n",
    "* word: definitions. \n",
    "    \n",
    "    * How [meausrements] are down:\n",
    "    \n",
    "        A "
   ]
  },
  {
   "cell_type": "markdown",
   "metadata": {},
   "source": [
    "## <span style=\"color:#ffd900\"> Ideas/Future Devolpments</span>"
   ]
  },
  {
   "cell_type": "markdown",
   "metadata": {},
   "source": [
    "* Biology\n",
    "\n",
    "    * Genetics\n",
    "        * Gene Expression and Disease Correlation\n",
    "            Hypothesis: Specific gene expression patterns are strongly correlated with certain diseases (like cancer, diabetes, etc.).\n",
    "            Approach: Utilize RNA-seq datasets from sources like the Cancer Genome Atlas (TCGA) to find correlations between gene expression levels and disease status. Heatmaps or volcano plots could be used to visualize differential gene expression.\n",
    "        * Genetic Bassis of Physical Traits\n",
    "            Hypothesis: Variations in certain genes are associated with observable traits like height, eye color, or even susceptibility to certain conditions.\n",
    "            Approach: You could explore GWAS (Genome-Wide Association Study) datasets to see if specific SNPs are linked to traits. Manhattan plots are great for visualizing this kind of data.\n",
    "        * Evolutionary Genomics\n",
    "            Hypothesis: Comparing the genomes of different species reveals evolutionary relationships and conserved genes.\n",
    "            Approach: Use comparative genomics data to find conserved sequences between species. Phylogenetic trees and sequence alignment visualizations can help illustrate evolutionary relationships.\n",
    "        * Microbiome Diversity Analysis\n",
    "            Hypothesis: The diversity of microbial genes in the gut microbiome varies significantly with diet, geography, or health status.\n",
    "            Approach: Analyze microbiome datasets (like from the Human Microbiome Project) and visualize microbial diversity using bar plots, heatmaps, or ordination techniques like NMDS (Non-metric Multidimensional Scaling).\n",
    "    \n",
    "\n",
    "* Healthcare\n",
    "    * Hospital datasets\n",
    "* Animals\n",
    "\t* Animal Genes\n",
    "\t* Marine fish\n",
    "\t* Marine biology dataset\n",
    "\n",
    "* Weather\n",
    "\t* https://www.ncdc.noaa.gov/cdo-web/datasets\n",
    "    * Climate change\n",
    "\t    * the effects on climate change through the years, temperatures\n",
    " \n",
    "\n",
    "* Finance\n",
    "    * default"
   ]
  }
 ],
 "metadata": {
  "kernelspec": {
   "display_name": "Python 3",
   "language": "python",
   "name": "python3"
  },
  "language_info": {
   "codemirror_mode": {
    "name": "ipython",
    "version": 3
   },
   "file_extension": ".py",
   "mimetype": "text/x-python",
   "name": "python",
   "nbconvert_exporter": "python",
   "pygments_lexer": "ipython3",
   "version": "3.12.0"
  }
 },
 "nbformat": 4,
 "nbformat_minor": 2
}
